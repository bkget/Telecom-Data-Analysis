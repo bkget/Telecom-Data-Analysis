{
 "cells": [
  {
   "cell_type": "code",
   "execution_count": 1,
   "metadata": {},
   "outputs": [],
   "source": [
    "# Import modules for our task\n",
    "\n",
    "import os\n",
    "import sys\n",
    "import numpy as np\n",
    "import pandas as pd\n",
    "import matplotlib.pyplot as plt \n",
    "from sklearn.decomposition import PCA\n",
    "from sklearn.preprocessing import StandardScaler\n",
    "import seaborn as sns\n",
    "import warnings\n",
    "warnings.filterwarnings('ignore')\n",
    "sys.path.append(os.path.abspath(os.path.join('../scripts')))"
   ]
  },
  {
   "cell_type": "code",
   "execution_count": 2,
   "metadata": {},
   "outputs": [],
   "source": [
    "pd.set_option('display.max_columns', None)\n",
    "pd.options.display.float_format = \"{:.2f}\".format"
   ]
  },
  {
   "cell_type": "code",
   "execution_count": 3,
   "metadata": {},
   "outputs": [],
   "source": [
    "# Import our Script\n",
    "\n",
    "from user_overview_script import UserOverviewScript\n",
    "import plots"
   ]
  },
  {
   "cell_type": "markdown",
   "metadata": {},
   "source": [
    "### **Task-1** : User Overview Analysis\n",
    "In this task we will conduct a user overview analysis to achieve the following sub-tasks: \n",
    "*  Identify the top 10 handsets used by the customers.\n",
    "*  Identify the top 3 handset manufacturers\n",
    "*  Identify the top 5 handsets per top 3 handset manufacturer\n",
    "*  Make a short interpretation and recommendation to marketing teams\n"
   ]
  },
  {
   "cell_type": "code",
   "execution_count": 4,
   "metadata": {},
   "outputs": [],
   "source": [
    "# Read cleaned Telecom dataset\n",
    "\n",
    "cleaned_df = pd.read_csv('../data/cleaned_Telecom_data.csv')"
   ]
  },
  {
   "cell_type": "code",
   "execution_count": 5,
   "metadata": {},
   "outputs": [],
   "source": [
    "# Instantiate our UserOverviewScript class in user_overview_script \n",
    "\n",
    "user_overview_script = UserOverviewScript(cleaned_df)"
   ]
  },
  {
   "cell_type": "code",
   "execution_count": 6,
   "metadata": {},
   "outputs": [
    {
     "data": {
      "text/html": [
       "<div>\n",
       "<style scoped>\n",
       "    .dataframe tbody tr th:only-of-type {\n",
       "        vertical-align: middle;\n",
       "    }\n",
       "\n",
       "    .dataframe tbody tr th {\n",
       "        vertical-align: top;\n",
       "    }\n",
       "\n",
       "    .dataframe thead th {\n",
       "        text-align: right;\n",
       "    }\n",
       "</style>\n",
       "<table border=\"1\" class=\"dataframe\">\n",
       "  <thead>\n",
       "    <tr style=\"text-align: right;\">\n",
       "      <th></th>\n",
       "      <th>Handset Type</th>\n",
       "    </tr>\n",
       "  </thead>\n",
       "  <tbody>\n",
       "    <tr>\n",
       "      <th>Huawei B528S-23A</th>\n",
       "      <td>19754</td>\n",
       "    </tr>\n",
       "    <tr>\n",
       "      <th>Apple iPhone 6S (A1688)</th>\n",
       "      <td>9401</td>\n",
       "    </tr>\n",
       "    <tr>\n",
       "      <th>Apple iPhone 6 (A1586)</th>\n",
       "      <td>9004</td>\n",
       "    </tr>\n",
       "    <tr>\n",
       "      <th>undefined</th>\n",
       "      <td>8960</td>\n",
       "    </tr>\n",
       "    <tr>\n",
       "      <th>Apple iPhone 7 (A1778)</th>\n",
       "      <td>6301</td>\n",
       "    </tr>\n",
       "    <tr>\n",
       "      <th>Apple iPhone Se (A1723)</th>\n",
       "      <td>5176</td>\n",
       "    </tr>\n",
       "    <tr>\n",
       "      <th>Apple iPhone 8 (A1905)</th>\n",
       "      <td>4985</td>\n",
       "    </tr>\n",
       "    <tr>\n",
       "      <th>Apple iPhone Xr (A2105)</th>\n",
       "      <td>4562</td>\n",
       "    </tr>\n",
       "    <tr>\n",
       "      <th>Samsung Galaxy S8 (Sm-G950F)</th>\n",
       "      <td>4504</td>\n",
       "    </tr>\n",
       "    <tr>\n",
       "      <th>Apple iPhone X (A1901)</th>\n",
       "      <td>3809</td>\n",
       "    </tr>\n",
       "  </tbody>\n",
       "</table>\n",
       "</div>"
      ],
      "text/plain": [
       "                              Handset Type\n",
       "Huawei B528S-23A                     19754\n",
       "Apple iPhone 6S (A1688)               9401\n",
       "Apple iPhone 6 (A1586)                9004\n",
       "undefined                             8960\n",
       "Apple iPhone 7 (A1778)                6301\n",
       "Apple iPhone Se (A1723)               5176\n",
       "Apple iPhone 8 (A1905)                4985\n",
       "Apple iPhone Xr (A2105)               4562\n",
       "Samsung Galaxy S8 (Sm-G950F)          4504\n",
       "Apple iPhone X (A1901)                3809"
      ]
     },
     "execution_count": 6,
     "metadata": {},
     "output_type": "execute_result"
    }
   ],
   "source": [
    "# top 10 handset_types used by customers from cleaned_df\n",
    "\n",
    "top_10_handsets = user_overview_script.get_top_handsets(10)\n",
    "pd.DataFrame(top_10_handsets)"
   ]
  },
  {
   "cell_type": "code",
   "execution_count": 7,
   "metadata": {},
   "outputs": [
    {
     "data": {
      "text/plain": [
       "Index(['Huawei B528S-23A', 'Apple iPhone 6S (A1688)', 'Apple iPhone 6 (A1586)',\n",
       "       'undefined', 'Apple iPhone 7 (A1778)', 'Apple iPhone Se (A1723)',\n",
       "       'Apple iPhone 8 (A1905)', 'Apple iPhone Xr (A2105)',\n",
       "       'Samsung Galaxy S8 (Sm-G950F)', 'Apple iPhone X (A1901)'],\n",
       "      dtype='object')"
      ]
     },
     "execution_count": 7,
     "metadata": {},
     "output_type": "execute_result"
    }
   ],
   "source": [
    "top_10_handsets.index"
   ]
  },
  {
   "cell_type": "code",
   "execution_count": 8,
   "metadata": {},
   "outputs": [
    {
     "data": {
      "image/png": "[encoded data removed]",
      "text/plain": [
       "<Figure size 720x360 with 1 Axes>"
      ]
     },
     "metadata": {
      "needs_background": "light"
     },
     "output_type": "display_data"
    }
   ],
   "source": [
    "# Bar graph to display the top 10 Handset Types\n",
    "\n",
    "plt.figure(figsize=(10,5))\n",
    "sns.barplot(x=top_10_handsets.index, y=top_10_handsets.values)\n",
    "plt.title('Top 10 Handset Types used by Customers', size=14, fontweight=\"bold\")\n",
    "plt.xlabel('Handset Types', size=13, fontweight=\"bold\")\n",
    "plt.xticks(rotation=90)\n",
    "plt.ylabel('Number of Users', size=13, fontweight=\"bold\")\n",
    "plt.show()"
   ]
  },
  {
   "cell_type": "code",
   "execution_count": 9,
   "metadata": {},
   "outputs": [
    {
     "data": {
      "text/html": [
       "<div>\n",
       "<style scoped>\n",
       "    .dataframe tbody tr th:only-of-type {\n",
       "        vertical-align: middle;\n",
       "    }\n",
       "\n",
       "    .dataframe tbody tr th {\n",
       "        vertical-align: top;\n",
       "    }\n",
       "\n",
       "    .dataframe thead th {\n",
       "        text-align: right;\n",
       "    }\n",
       "</style>\n",
       "<table border=\"1\" class=\"dataframe\">\n",
       "  <thead>\n",
       "    <tr style=\"text-align: right;\">\n",
       "      <th></th>\n",
       "      <th>Handset Manufacturer</th>\n",
       "    </tr>\n",
       "  </thead>\n",
       "  <tbody>\n",
       "    <tr>\n",
       "      <th>Apple</th>\n",
       "      <td>59442</td>\n",
       "    </tr>\n",
       "    <tr>\n",
       "      <th>Samsung</th>\n",
       "      <td>40689</td>\n",
       "    </tr>\n",
       "    <tr>\n",
       "      <th>Huawei</th>\n",
       "      <td>34353</td>\n",
       "    </tr>\n",
       "  </tbody>\n",
       "</table>\n",
       "</div>"
      ],
      "text/plain": [
       "         Handset Manufacturer\n",
       "Apple                   59442\n",
       "Samsung                 40689\n",
       "Huawei                  34353"
      ]
     },
     "execution_count": 9,
     "metadata": {},
     "output_type": "execute_result"
    }
   ],
   "source": [
    "# top 10 manufactures used by customers from cleaned_df\n",
    "\n",
    "top_3_manufacturers = user_overview_script.get_top_manufacturers(3)\n",
    "pd.DataFrame(top_3_manufacturers)"
   ]
  },
  {
   "cell_type": "code",
   "execution_count": 10,
   "metadata": {},
   "outputs": [
    {
     "data": {
      "image/png": "[encoded data removed]",
      "text/plain": [
       "<Figure size 720x360 with 1 Axes>"
      ]
     },
     "metadata": {
      "needs_background": "light"
     },
     "output_type": "display_data"
    }
   ],
   "source": [
    "# Bar graph to display the top 10 Handset Manufacturers\n",
    "\n",
    "plt.figure(figsize=(10,5))\n",
    "sns.barplot(x=top_3_manufacturers.index, y=top_3_manufacturers.values)\n",
    "plt.title('Top 3 Handset Manufacturers', size=14, fontweight=\"bold\")\n",
    "plt.xlabel('Handset Manufacturers', size=13, fontweight=\"bold\") \n",
    "plt.ylabel('Number of Users', size=13, fontweight=\"bold\")\n",
    "plt.show()"
   ]
  },
  {
   "cell_type": "code",
   "execution_count": 11,
   "metadata": {},
   "outputs": [
    {
     "name": "stdout",
     "output_type": "stream",
     "text": [
      ">>>> Apple <<<<\n",
      "Handset Type\n",
      "Apple iPhone 6S (A1688)    6745\n",
      "Apple iPhone 6 (A1586)     6246\n",
      "Apple iPhone 7 (A1778)     4676\n",
      "Apple iPhone Se (A1723)    3745\n",
      "Apple iPhone 8 (A1905)     3536\n",
      "Name: MSISDN/Number, dtype: int64\n",
      "\n",
      ">>>> Samsung <<<<\n",
      "Handset Type\n",
      "Samsung Galaxy S8 (Sm-G950F)    3233\n",
      "Samsung Galaxy J5 (Sm-J530)     2742\n",
      "Samsung Galaxy A5 Sm-A520F      2702\n",
      "Samsung Galaxy J3 (Sm-J330)     2582\n",
      "Samsung Galaxy S7 (Sm-G930X)    2289\n",
      "Name: MSISDN/Number, dtype: int64\n",
      "\n",
      ">>>> Huawei <<<<\n",
      "Handset Type\n",
      "Huawei B528S-23A                  10617\n",
      "Huawei P20 Lite Huawei Nova 3E     1527\n",
      "Huawei E5180                       1183\n",
      "Huawei P20                         1106\n",
      "Huawei Y6 2018                      757\n",
      "Name: MSISDN/Number, dtype: int64\n",
      "\n"
     ]
    }
   ],
   "source": [
    "user_overview_script.get_handset_group()"
   ]
  },
  {
   "cell_type": "markdown",
   "metadata": {},
   "source": [
    "#### Short Interpretation\n",
    "\n",
    "Based on our results, we have confirmed that Apple is the most preferred manufacturer of the three major phone manufacturers (namely Apple, Samsung and Huawei) from the given dataset. Of its phones, the iPhone 6S (A1688) and iPhone 6 (A1586) are the most popular. Among the Samsung handsets, the Samsung Galaxy S8 (Sm-G950F) is the most popular handset. When we compare the products of the three mobile phone manufacturers individually, we find that the Huawei B528S-23A is the most popular mobile phone by the customers.\n"
   ]
  },
  {
   "cell_type": "markdown",
   "metadata": {},
   "source": [
    "### **Task 1.1** -  Overview of Users’ Behavior\n",
    "\n",
    "Aggregate users information based on the following columns:\n",
    "1. Number of xDR sessions\n",
    "2. Session duration\n",
    "3. the total download (DL) and upload (UL) data\n",
    "4. the total data volume (in Bytes) during this session for each application\n"
   ]
  },
  {
   "cell_type": "code",
   "execution_count": 12,
   "metadata": {},
   "outputs": [],
   "source": [
    "# Convert Total UL and Total DL Bytes to MB\n",
    "\n",
    "cleaned_df['Total UL (Bytes)'] = user_overview_script.convert_bytes_to_megabytes(cleaned_df['Total UL (Bytes)'])\n",
    "cleaned_df['Total DL (Bytes)'] = user_overview_script.convert_bytes_to_megabytes(cleaned_df['Total DL (Bytes)'])"
   ]
  },
  {
   "cell_type": "code",
   "execution_count": 13,
   "metadata": {},
   "outputs": [],
   "source": [
    "# Convert Dur. (ms to Second\n",
    "\n",
    "dur_sec = user_overview_script.convert_ms_to_sec(cleaned_df['Dur. (ms)'])"
   ]
  },
  {
   "cell_type": "code",
   "execution_count": 14,
   "metadata": {},
   "outputs": [],
   "source": [
    "# Rename the columns after conversion\n",
    "\n",
    "cleaned_df.rename(columns = {'Total UL (Bytes)':'Total UL (MB)', 'Total DL (Bytes)':'Total DL (MB)', 'Dur. (ms)': 'Dur. (sec)'}, inplace = True)"
   ]
  },
  {
   "cell_type": "code",
   "execution_count": 15,
   "metadata": {},
   "outputs": [
    {
     "data": {
      "text/html": [
       "<div>\n",
       "<style scoped>\n",
       "    .dataframe tbody tr th:only-of-type {\n",
       "        vertical-align: middle;\n",
       "    }\n",
       "\n",
       "    .dataframe tbody tr th {\n",
       "        vertical-align: top;\n",
       "    }\n",
       "\n",
       "    .dataframe thead th {\n",
       "        text-align: right;\n",
       "    }\n",
       "</style>\n",
       "<table border=\"1\" class=\"dataframe\">\n",
       "  <thead>\n",
       "    <tr style=\"text-align: right;\">\n",
       "      <th></th>\n",
       "      <th>Bearer Id</th>\n",
       "      <th>Dur. (sec)</th>\n",
       "      <th>Total UL (MB)</th>\n",
       "      <th>Total DL (MB)</th>\n",
       "      <th>Total Data (MB)</th>\n",
       "    </tr>\n",
       "    <tr>\n",
       "      <th>MSISDN/Number</th>\n",
       "      <th></th>\n",
       "      <th></th>\n",
       "      <th></th>\n",
       "      <th></th>\n",
       "      <th></th>\n",
       "    </tr>\n",
       "  </thead>\n",
       "  <tbody>\n",
       "    <tr>\n",
       "      <th>33601001722.00</th>\n",
       "      <td>1</td>\n",
       "      <td>116720.00</td>\n",
       "      <td>36.05</td>\n",
       "      <td>842.64</td>\n",
       "      <td>878.69</td>\n",
       "    </tr>\n",
       "    <tr>\n",
       "      <th>33601001754.00</th>\n",
       "      <td>1</td>\n",
       "      <td>181230.00</td>\n",
       "      <td>36.10</td>\n",
       "      <td>120.76</td>\n",
       "      <td>156.86</td>\n",
       "    </tr>\n",
       "    <tr>\n",
       "      <th>33601002511.00</th>\n",
       "      <td>1</td>\n",
       "      <td>134969.00</td>\n",
       "      <td>39.31</td>\n",
       "      <td>556.66</td>\n",
       "      <td>595.97</td>\n",
       "    </tr>\n",
       "    <tr>\n",
       "      <th>33601007832.00</th>\n",
       "      <td>1</td>\n",
       "      <td>49878.00</td>\n",
       "      <td>20.33</td>\n",
       "      <td>401.99</td>\n",
       "      <td>422.32</td>\n",
       "    </tr>\n",
       "    <tr>\n",
       "      <th>33601008617.00</th>\n",
       "      <td>2</td>\n",
       "      <td>37104.00</td>\n",
       "      <td>94.28</td>\n",
       "      <td>1363.13</td>\n",
       "      <td>1457.41</td>\n",
       "    </tr>\n",
       "  </tbody>\n",
       "</table>\n",
       "</div>"
      ],
      "text/plain": [
       "                Bearer Id  Dur. (sec)  Total UL (MB)  Total DL (MB)  \\\n",
       "MSISDN/Number                                                         \n",
       "33601001722.00          1   116720.00          36.05         842.64   \n",
       "33601001754.00          1   181230.00          36.10         120.76   \n",
       "33601002511.00          1   134969.00          39.31         556.66   \n",
       "33601007832.00          1    49878.00          20.33         401.99   \n",
       "33601008617.00          2    37104.00          94.28        1363.13   \n",
       "\n",
       "                Total Data (MB)  \n",
       "MSISDN/Number                    \n",
       "33601001722.00           878.69  \n",
       "33601001754.00           156.86  \n",
       "33601002511.00           595.97  \n",
       "33601007832.00           422.32  \n",
       "33601008617.00          1457.41  "
      ]
     },
     "execution_count": 15,
     "metadata": {},
     "output_type": "execute_result"
    }
   ],
   "source": [
    "\n",
    "cleaned_df['Total Data (MB)'] = cleaned_df['Total DL (MB)'] + cleaned_df['Total UL (MB)']\n",
    "\n",
    "aggrigate = {\"Bearer Id\": 'count', 'Dur. (sec)':'sum', 'Total UL (MB)': 'sum', 'Total DL (MB)': 'sum', 'Total Data (MB)': 'sum'}\n",
    "aggrigation_result = cleaned_df.groupby('MSISDN/Number').agg(aggrigate)\n",
    "aggrigation_result.head()"
   ]
  },
  {
   "cell_type": "code",
   "execution_count": 16,
   "metadata": {},
   "outputs": [],
   "source": [
    "user_app_usage = cleaned_df.copy()\n",
    "\n",
    "user_app_usage[\"Social Media (MB)\"] = user_app_usage[\"Social Media DL (Bytes)\"] + user_app_usage['Social Media UL (Bytes)']\n",
    "user_app_usage[\"Google (MB)\"]       = user_app_usage[\"Google DL (Bytes)\"] + user_app_usage[\"Google UL (Bytes)\"]\n",
    "user_app_usage['Youtube (MB)']      = user_app_usage[\"Youtube DL (Bytes)\"] + user_app_usage[\"Youtube UL (Bytes)\"]\n",
    "user_app_usage['Netflix (MB)']      = user_app_usage[\"Netflix DL (Bytes)\"] + user_app_usage[\"Netflix UL (Bytes)\"]\n",
    "user_app_usage[\"Gaming (MB)\"]       = user_app_usage[\"Gaming DL (Bytes)\"] + user_app_usage[\"Gaming UL (Bytes)\"]\n",
    "user_app_usage['Email (MB)']        = user_app_usage[\"Email DL (Bytes)\"] + user_app_usage[\"Email UL (Bytes)\"]\n",
    "user_app_usage['Other (MB)']        = user_app_usage[\"Other DL (Bytes)\"]+ user_app_usage[\"Other UL (Bytes)\"]\n",
    "user_app_usage['Total Data (MB)']   = user_app_usage['Total UL (MB)'] + user_app_usage['Total DL (MB)']"
   ]
  },
  {
   "cell_type": "code",
   "execution_count": 17,
   "metadata": {},
   "outputs": [],
   "source": [
    "# Convert to MB\n",
    "\n",
    "user_app_usage[\"Social Media (MB)\"] = user_overview_script.convert_bytes_to_megabytes(user_app_usage[\"Social Media (MB)\"])\n",
    "user_app_usage[\"Google (MB)\"]       = user_overview_script.convert_bytes_to_megabytes(user_app_usage[\"Google (MB)\"])\n",
    "user_app_usage['Youtube (MB)']      = user_overview_script.convert_bytes_to_megabytes(user_app_usage[\"Youtube (MB)\"])\n",
    "user_app_usage['Netflix (MB)']      = user_overview_script.convert_bytes_to_megabytes(user_app_usage[\"Netflix (MB)\"])\n",
    "user_app_usage[\"Gaming (MB)\"]       = user_overview_script.convert_bytes_to_megabytes(user_app_usage[\"Gaming (MB)\"])\n",
    "user_app_usage['Email (MB)']        = user_overview_script.convert_bytes_to_megabytes(user_app_usage[\"Email (MB)\"])\n",
    "user_app_usage['Other (MB)']        = user_overview_script.convert_bytes_to_megabytes(user_app_usage[\"Other (MB)\"])"
   ]
  },
  {
   "cell_type": "code",
   "execution_count": 18,
   "metadata": {},
   "outputs": [],
   "source": [
    "app_columns = ['MSISDN/Number','Social Media (MB)','Google (MB)', 'Youtube (MB)','Netflix (MB)', \\\n",
    "              'Gaming (MB)', 'Email (MB)', 'Other (MB)', 'Total Data (MB)'] "
   ]
  },
  {
   "cell_type": "code",
   "execution_count": 19,
   "metadata": {},
   "outputs": [
    {
     "data": {
      "text/html": [
       "<div>\n",
       "<style scoped>\n",
       "    .dataframe tbody tr th:only-of-type {\n",
       "        vertical-align: middle;\n",
       "    }\n",
       "\n",
       "    .dataframe tbody tr th {\n",
       "        vertical-align: top;\n",
       "    }\n",
       "\n",
       "    .dataframe thead th {\n",
       "        text-align: right;\n",
       "    }\n",
       "</style>\n",
       "<table border=\"1\" class=\"dataframe\">\n",
       "  <thead>\n",
       "    <tr style=\"text-align: right;\">\n",
       "      <th></th>\n",
       "      <th>Social Media (MB)</th>\n",
       "      <th>Google (MB)</th>\n",
       "      <th>Youtube (MB)</th>\n",
       "      <th>Netflix (MB)</th>\n",
       "      <th>Gaming (MB)</th>\n",
       "      <th>Email (MB)</th>\n",
       "      <th>Other (MB)</th>\n",
       "      <th>Total Data (MB)</th>\n",
       "    </tr>\n",
       "    <tr>\n",
       "      <th>MSISDN/Number</th>\n",
       "      <th></th>\n",
       "      <th></th>\n",
       "      <th></th>\n",
       "      <th></th>\n",
       "      <th></th>\n",
       "      <th></th>\n",
       "      <th></th>\n",
       "      <th></th>\n",
       "    </tr>\n",
       "  </thead>\n",
       "  <tbody>\n",
       "    <tr>\n",
       "      <th>33622712671.00</th>\n",
       "      <td>2.04</td>\n",
       "      <td>13.17</td>\n",
       "      <td>22.06</td>\n",
       "      <td>21.67</td>\n",
       "      <td>14.50</td>\n",
       "      <td>2.99</td>\n",
       "      <td>438.20</td>\n",
       "      <td>92.49</td>\n",
       "    </tr>\n",
       "    <tr>\n",
       "      <th>33660406399.00</th>\n",
       "      <td>2.74</td>\n",
       "      <td>7.08</td>\n",
       "      <td>39.68</td>\n",
       "      <td>31.50</td>\n",
       "      <td>571.27</td>\n",
       "      <td>3.28</td>\n",
       "      <td>154.47</td>\n",
       "      <td>660.74</td>\n",
       "    </tr>\n",
       "    <tr>\n",
       "      <th>33659424837.00</th>\n",
       "      <td>1.59</td>\n",
       "      <td>12.38</td>\n",
       "      <td>29.61</td>\n",
       "      <td>42.95</td>\n",
       "      <td>731.89</td>\n",
       "      <td>0.68</td>\n",
       "      <td>208.91</td>\n",
       "      <td>831.77</td>\n",
       "    </tr>\n",
       "    <tr>\n",
       "      <th>33663931801.00</th>\n",
       "      <td>3.44</td>\n",
       "      <td>12.42</td>\n",
       "      <td>23.59</td>\n",
       "      <td>19.49</td>\n",
       "      <td>725.40</td>\n",
       "      <td>2.31</td>\n",
       "      <td>450.16</td>\n",
       "      <td>788.09</td>\n",
       "    </tr>\n",
       "    <tr>\n",
       "      <th>33643728497.00</th>\n",
       "      <td>3.11</td>\n",
       "      <td>21.43</td>\n",
       "      <td>60.75</td>\n",
       "      <td>16.99</td>\n",
       "      <td>696.79</td>\n",
       "      <td>4.46</td>\n",
       "      <td>746.77</td>\n",
       "      <td>819.26</td>\n",
       "    </tr>\n",
       "    <tr>\n",
       "      <th>33761896790.00</th>\n",
       "      <td>3.57</td>\n",
       "      <td>4.87</td>\n",
       "      <td>32.63</td>\n",
       "      <td>32.38</td>\n",
       "      <td>454.75</td>\n",
       "      <td>1.89</td>\n",
       "      <td>704.22</td>\n",
       "      <td>539.22</td>\n",
       "    </tr>\n",
       "    <tr>\n",
       "      <th>33658311615.00</th>\n",
       "      <td>2.64</td>\n",
       "      <td>8.08</td>\n",
       "      <td>3.38</td>\n",
       "      <td>39.38</td>\n",
       "      <td>547.14</td>\n",
       "      <td>2.30</td>\n",
       "      <td>541.53</td>\n",
       "      <td>604.09</td>\n",
       "    </tr>\n",
       "    <tr>\n",
       "      <th>33685872040.00</th>\n",
       "      <td>3.52</td>\n",
       "      <td>7.04</td>\n",
       "      <td>30.98</td>\n",
       "      <td>44.41</td>\n",
       "      <td>808.38</td>\n",
       "      <td>3.30</td>\n",
       "      <td>1366.49</td>\n",
       "      <td>904.57</td>\n",
       "    </tr>\n",
       "    <tr>\n",
       "      <th>33648629457.00</th>\n",
       "      <td>3.29</td>\n",
       "      <td>10.78</td>\n",
       "      <td>24.43</td>\n",
       "      <td>31.37</td>\n",
       "      <td>506.51</td>\n",
       "      <td>3.99</td>\n",
       "      <td>8.12</td>\n",
       "      <td>585.83</td>\n",
       "    </tr>\n",
       "    <tr>\n",
       "      <th>33684157926.00</th>\n",
       "      <td>9.28</td>\n",
       "      <td>28.06</td>\n",
       "      <td>34.60</td>\n",
       "      <td>62.82</td>\n",
       "      <td>1833.76</td>\n",
       "      <td>9.56</td>\n",
       "      <td>990.05</td>\n",
       "      <td>1987.45</td>\n",
       "    </tr>\n",
       "  </tbody>\n",
       "</table>\n",
       "</div>"
      ],
      "text/plain": [
       "                Social Media (MB)  Google (MB)  Youtube (MB)  Netflix (MB)  \\\n",
       "MSISDN/Number                                                                \n",
       "33622712671.00               2.04        13.17         22.06         21.67   \n",
       "33660406399.00               2.74         7.08         39.68         31.50   \n",
       "33659424837.00               1.59        12.38         29.61         42.95   \n",
       "33663931801.00               3.44        12.42         23.59         19.49   \n",
       "33643728497.00               3.11        21.43         60.75         16.99   \n",
       "33761896790.00               3.57         4.87         32.63         32.38   \n",
       "33658311615.00               2.64         8.08          3.38         39.38   \n",
       "33685872040.00               3.52         7.04         30.98         44.41   \n",
       "33648629457.00               3.29        10.78         24.43         31.37   \n",
       "33684157926.00               9.28        28.06         34.60         62.82   \n",
       "\n",
       "                Gaming (MB)  Email (MB)  Other (MB)  Total Data (MB)  \n",
       "MSISDN/Number                                                         \n",
       "33622712671.00        14.50        2.99      438.20            92.49  \n",
       "33660406399.00       571.27        3.28      154.47           660.74  \n",
       "33659424837.00       731.89        0.68      208.91           831.77  \n",
       "33663931801.00       725.40        2.31      450.16           788.09  \n",
       "33643728497.00       696.79        4.46      746.77           819.26  \n",
       "33761896790.00       454.75        1.89      704.22           539.22  \n",
       "33658311615.00       547.14        2.30      541.53           604.09  \n",
       "33685872040.00       808.38        3.30     1366.49           904.57  \n",
       "33648629457.00       506.51        3.99        8.12           585.83  \n",
       "33684157926.00      1833.76        9.56      990.05          1987.45  "
      ]
     },
     "execution_count": 19,
     "metadata": {},
     "output_type": "execute_result"
    }
   ],
   "source": [
    "user_app_behavior = user_app_usage[app_columns].groupby('MSISDN/Number').sum().sample(10)\n",
    "user_app_behavior"
   ]
  },
  {
   "cell_type": "markdown",
   "metadata": {},
   "source": [
    "### **Task 1.2** - Exploratory Data Analysis\n",
    "In this task we will try to identify useful insights, identify and treat all missing values and outliers in the dataset by replacing by the mean of the corresponding column."
   ]
  },
  {
   "cell_type": "code",
   "execution_count": 20,
   "metadata": {},
   "outputs": [
    {
     "name": "stdout",
     "output_type": "stream",
     "text": [
      "<class 'pandas.core.frame.DataFrame'>\n",
      "RangeIndex: 149001 entries, 0 to 149000\n",
      "Data columns (total 11 columns):\n",
      " #   Column             Non-Null Count   Dtype  \n",
      "---  ------             --------------   -----  \n",
      " 0   Bearer Id          149001 non-null  float64\n",
      " 1   Dur. (sec)         149001 non-null  float64\n",
      " 2   MSISDN/Number      149001 non-null  float64\n",
      " 3   Social Media (MB)  149001 non-null  float64\n",
      " 4   Google (MB)        149001 non-null  float64\n",
      " 5   Youtube (MB)       149001 non-null  float64\n",
      " 6   Netflix (MB)       149001 non-null  float64\n",
      " 7   Gaming (MB)        149001 non-null  float64\n",
      " 8   Email (MB)         149001 non-null  float64\n",
      " 9   Other (MB)         149001 non-null  float64\n",
      " 10  Total Data (MB)    149001 non-null  float64\n",
      "dtypes: float64(11)\n",
      "memory usage: 12.5 MB\n"
     ]
    }
   ],
   "source": [
    "coloumns_to_analyze = ['Bearer Id','Dur. (sec)', 'MSISDN/Number', 'Social Media (MB)', 'Google (MB)', 'Youtube (MB)',   \n",
    "                'Netflix (MB)', 'Gaming (MB)', 'Email (MB)', 'Other (MB)', 'Total Data (MB)']\n",
    "\n",
    "explore_feature_df = user_app_usage[coloumns_to_analyze]\n",
    "explore_feature_df.info()"
   ]
  },
  {
   "cell_type": "code",
   "execution_count": 21,
   "metadata": {},
   "outputs": [
    {
     "data": {
      "text/html": [
       "<div>\n",
       "<style scoped>\n",
       "    .dataframe tbody tr th:only-of-type {\n",
       "        vertical-align: middle;\n",
       "    }\n",
       "\n",
       "    .dataframe tbody tr th {\n",
       "        vertical-align: top;\n",
       "    }\n",
       "\n",
       "    .dataframe thead th {\n",
       "        text-align: right;\n",
       "    }\n",
       "</style>\n",
       "<table border=\"1\" class=\"dataframe\">\n",
       "  <thead>\n",
       "    <tr style=\"text-align: right;\">\n",
       "      <th></th>\n",
       "      <th>Bearer Id</th>\n",
       "      <th>Dur. (sec)</th>\n",
       "      <th>MSISDN/Number</th>\n",
       "      <th>Social Media (MB)</th>\n",
       "      <th>Google (MB)</th>\n",
       "      <th>Youtube (MB)</th>\n",
       "      <th>Netflix (MB)</th>\n",
       "      <th>Gaming (MB)</th>\n",
       "      <th>Email (MB)</th>\n",
       "      <th>Other (MB)</th>\n",
       "      <th>Total Data (MB)</th>\n",
       "    </tr>\n",
       "  </thead>\n",
       "  <tbody>\n",
       "    <tr>\n",
       "      <th>count</th>\n",
       "      <td>149001.00</td>\n",
       "      <td>149001.00</td>\n",
       "      <td>149001.00</td>\n",
       "      <td>149001.00</td>\n",
       "      <td>149001.00</td>\n",
       "      <td>149001.00</td>\n",
       "      <td>149001.00</td>\n",
       "      <td>149001.00</td>\n",
       "      <td>149001.00</td>\n",
       "      <td>149001.00</td>\n",
       "      <td>149001.00</td>\n",
       "    </tr>\n",
       "    <tr>\n",
       "      <th>mean</th>\n",
       "      <td>10138953165351833600.00</td>\n",
       "      <td>104969.32</td>\n",
       "      <td>41879033849.73</td>\n",
       "      <td>1.83</td>\n",
       "      <td>7.81</td>\n",
       "      <td>22.64</td>\n",
       "      <td>22.63</td>\n",
       "      <td>430.38</td>\n",
       "      <td>2.26</td>\n",
       "      <td>429.41</td>\n",
       "      <td>495.81</td>\n",
       "    </tr>\n",
       "    <tr>\n",
       "      <th>std</th>\n",
       "      <td>2893165166186102784.00</td>\n",
       "      <td>81065.76</td>\n",
       "      <td>2446901253967.34</td>\n",
       "      <td>1.04</td>\n",
       "      <td>3.52</td>\n",
       "      <td>9.25</td>\n",
       "      <td>9.26</td>\n",
       "      <td>244.05</td>\n",
       "      <td>1.07</td>\n",
       "      <td>243.24</td>\n",
       "      <td>244.41</td>\n",
       "    </tr>\n",
       "    <tr>\n",
       "      <th>min</th>\n",
       "      <td>6917537518543529984.00</td>\n",
       "      <td>7142.00</td>\n",
       "      <td>33601001722.00</td>\n",
       "      <td>0.00</td>\n",
       "      <td>0.04</td>\n",
       "      <td>0.08</td>\n",
       "      <td>0.10</td>\n",
       "      <td>0.31</td>\n",
       "      <td>0.01</td>\n",
       "      <td>0.15</td>\n",
       "      <td>28.96</td>\n",
       "    </tr>\n",
       "    <tr>\n",
       "      <th>25%</th>\n",
       "      <td>7349883246967950336.00</td>\n",
       "      <td>58008.00</td>\n",
       "      <td>33650997556.00</td>\n",
       "      <td>0.93</td>\n",
       "      <td>4.94</td>\n",
       "      <td>15.99</td>\n",
       "      <td>15.98</td>\n",
       "      <td>218.77</td>\n",
       "      <td>1.36</td>\n",
       "      <td>218.69</td>\n",
       "      <td>284.54</td>\n",
       "    </tr>\n",
       "    <tr>\n",
       "      <th>50%</th>\n",
       "      <td>7349883264156949504.00</td>\n",
       "      <td>86399.00</td>\n",
       "      <td>33663661405.00</td>\n",
       "      <td>1.83</td>\n",
       "      <td>7.81</td>\n",
       "      <td>22.66</td>\n",
       "      <td>22.64</td>\n",
       "      <td>431.67</td>\n",
       "      <td>2.26</td>\n",
       "      <td>430.00</td>\n",
       "      <td>496.96</td>\n",
       "    </tr>\n",
       "    <tr>\n",
       "      <th>75%</th>\n",
       "      <td>13042425978957799424.00</td>\n",
       "      <td>132791.00</td>\n",
       "      <td>33683312636.00</td>\n",
       "      <td>2.73</td>\n",
       "      <td>10.68</td>\n",
       "      <td>29.30</td>\n",
       "      <td>29.29</td>\n",
       "      <td>641.52</td>\n",
       "      <td>3.16</td>\n",
       "      <td>639.93</td>\n",
       "      <td>706.60</td>\n",
       "    </tr>\n",
       "    <tr>\n",
       "      <th>max</th>\n",
       "      <td>13186541167134199808.00</td>\n",
       "      <td>1859336.00</td>\n",
       "      <td>882397108489451.00</td>\n",
       "      <td>3.65</td>\n",
       "      <td>15.53</td>\n",
       "      <td>45.19</td>\n",
       "      <td>45.20</td>\n",
       "      <td>859.20</td>\n",
       "      <td>4.52</td>\n",
       "      <td>859.52</td>\n",
       "      <td>955.98</td>\n",
       "    </tr>\n",
       "  </tbody>\n",
       "</table>\n",
       "</div>"
      ],
      "text/plain": [
       "                    Bearer Id  Dur. (sec)      MSISDN/Number  \\\n",
       "count               149001.00   149001.00          149001.00   \n",
       "mean  10138953165351833600.00   104969.32     41879033849.73   \n",
       "std    2893165166186102784.00    81065.76   2446901253967.34   \n",
       "min    6917537518543529984.00     7142.00     33601001722.00   \n",
       "25%    7349883246967950336.00    58008.00     33650997556.00   \n",
       "50%    7349883264156949504.00    86399.00     33663661405.00   \n",
       "75%   13042425978957799424.00   132791.00     33683312636.00   \n",
       "max   13186541167134199808.00  1859336.00 882397108489451.00   \n",
       "\n",
       "       Social Media (MB)  Google (MB)  Youtube (MB)  Netflix (MB)  \\\n",
       "count          149001.00    149001.00     149001.00     149001.00   \n",
       "mean                1.83         7.81         22.64         22.63   \n",
       "std                 1.04         3.52          9.25          9.26   \n",
       "min                 0.00         0.04          0.08          0.10   \n",
       "25%                 0.93         4.94         15.99         15.98   \n",
       "50%                 1.83         7.81         22.66         22.64   \n",
       "75%                 2.73        10.68         29.30         29.29   \n",
       "max                 3.65        15.53         45.19         45.20   \n",
       "\n",
       "       Gaming (MB)  Email (MB)  Other (MB)  Total Data (MB)  \n",
       "count    149001.00   149001.00   149001.00        149001.00  \n",
       "mean        430.38        2.26      429.41           495.81  \n",
       "std         244.05        1.07      243.24           244.41  \n",
       "min           0.31        0.01        0.15            28.96  \n",
       "25%         218.77        1.36      218.69           284.54  \n",
       "50%         431.67        2.26      430.00           496.96  \n",
       "75%         641.52        3.16      639.93           706.60  \n",
       "max         859.20        4.52      859.52           955.98  "
      ]
     },
     "execution_count": 21,
     "metadata": {},
     "output_type": "execute_result"
    }
   ],
   "source": [
    "explore_feature_df.describe()"
   ]
  },
  {
   "cell_type": "markdown",
   "metadata": {},
   "source": [
    "In our data cleaning and preprocessing step, every null values are treated in some way accordingly. Based on the skewness vaue, numerical datas are filled either mean or median. In the other case, categorical datas are filled with the column mode value. "
   ]
  },
  {
   "cell_type": "code",
   "execution_count": 22,
   "metadata": {},
   "outputs": [
    {
     "data": {
      "text/plain": [
       "False"
      ]
     },
     "execution_count": 22,
     "metadata": {},
     "output_type": "execute_result"
    }
   ],
   "source": [
    "# Any missing values\n",
    "explore_feature_df.isnull().values.any()"
   ]
  },
  {
   "cell_type": "code",
   "execution_count": 23,
   "metadata": {},
   "outputs": [
    {
     "data": {
      "text/plain": [
       "0"
      ]
     },
     "execution_count": 23,
     "metadata": {},
     "output_type": "execute_result"
    }
   ],
   "source": [
    "# Total number of missing values\n",
    "explore_feature_df.isnull().sum().sum()"
   ]
  },
  {
   "cell_type": "markdown",
   "metadata": {},
   "source": [
    "### Univariant Analysis\n",
    "Analysis of a particular variable."
   ]
  },
  {
   "cell_type": "code",
   "execution_count": 24,
   "metadata": {},
   "outputs": [
    {
     "data": {
      "text/plain": [
       "<Figure size 648x504 with 0 Axes>"
      ]
     },
     "metadata": {},
     "output_type": "display_data"
    },
    {
     "data": {
      "image/png": "[encoded data removed]",
      "text/plain": [
       "<Figure size 1008x504 with 1 Axes>"
      ]
     },
     "metadata": {
      "needs_background": "light"
     },
     "output_type": "display_data"
    }
   ],
   "source": [
    "plots.hist(explore_feature_df, 'Dur. (sec)','green') "
   ]
  }
 ],
 "metadata": {
  "interpreter": {
   "hash": "8fd1cbcd69c57b36d2ba9a8d49ab7b16a00fad135dd5589a01f9a7f783d833cf"
  },
  "kernelspec": {
   "display_name": "Python 3.8.3 ('base')",
   "language": "python",
   "name": "python3"
  },
  "language_info": {
   "codemirror_mode": {
    "name": "ipython",
    "version": 3
   },
   "file_extension": ".py",
   "mimetype": "text/x-python",
   "name": "python",
   "nbconvert_exporter": "python",
   "pygments_lexer": "ipython3",
   "version": "3.8.3"
  },
  "orig_nbformat": 4
 },
 "nbformat": 4,
 "nbformat_minor": 2
}

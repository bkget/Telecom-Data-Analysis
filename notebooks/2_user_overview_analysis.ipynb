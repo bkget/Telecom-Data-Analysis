{
 "cells": [
  {
   "cell_type": "code",
   "execution_count": 101,
   "metadata": {},
   "outputs": [],
   "source": [
    "# Import modules for our task\n",
    "\n",
    "import os\n",
    "import sys\n",
    "import numpy as np\n",
    "import pandas as pd\n",
    "import matplotlib.pyplot as plt \n",
    "from sklearn.decomposition import PCA\n",
    "from sklearn.preprocessing import StandardScaler\n",
    "import seaborn as sns\n",
    "import warnings\n",
    "warnings.filterwarnings('ignore')\n",
    "sys.path.append(os.path.abspath(os.path.join('../scripts')))"
   ]
  },
  {
   "cell_type": "code",
   "execution_count": 102,
   "metadata": {},
   "outputs": [],
   "source": [
    "pd.set_option('display.max_columns', None)\n",
    "pd.options.display.float_format = \"{:.2f}\".format"
   ]
  },
  {
   "cell_type": "code",
   "execution_count": 103,
   "metadata": {},
   "outputs": [],
   "source": [
    "# Import our Script\n",
    "\n",
    "from user_overview_script import UserOverviewScript"
   ]
  },
  {
   "cell_type": "markdown",
   "metadata": {},
   "source": [
    "### **Task-1** : User Overview Analysis\n",
    "In this task we will conduct a user overview analysis to achieve the following sub-tasks: \n",
    "*  Identify the top 10 handsets used by the customers.\n",
    "*  Identify the top 3 handset manufacturers\n",
    "*  Identify the top 5 handsets per top 3 handset manufacturer\n",
    "*  Make a short interpretation and recommendation to marketing teams\n"
   ]
  },
  {
   "cell_type": "code",
   "execution_count": 104,
   "metadata": {},
   "outputs": [],
   "source": [
    "# Read cleaned Telecom dataset\n",
    "\n",
    "cleaned_df = pd.read_csv('../data/cleaned_Telecom_data.csv')"
   ]
  },
  {
   "cell_type": "code",
   "execution_count": null,
   "metadata": {},
   "outputs": [],
   "source": [
    "# Instantiate our UserOverviewScript class in user_overview_script \n",
    "\n",
    "user_overview_script = UserOverviewScript(cleaned_df)"
   ]
  },
  {
   "cell_type": "code",
   "execution_count": null,
   "metadata": {},
   "outputs": [
    {
     "data": {
      "text/html": [
       "<div>\n",
       "<style scoped>\n",
       "    .dataframe tbody tr th:only-of-type {\n",
       "        vertical-align: middle;\n",
       "    }\n",
       "\n",
       "    .dataframe tbody tr th {\n",
       "        vertical-align: top;\n",
       "    }\n",
       "\n",
       "    .dataframe thead th {\n",
       "        text-align: right;\n",
       "    }\n",
       "</style>\n",
       "<table border=\"1\" class=\"dataframe\">\n",
       "  <thead>\n",
       "    <tr style=\"text-align: right;\">\n",
       "      <th></th>\n",
       "      <th>Handset Type</th>\n",
       "    </tr>\n",
       "  </thead>\n",
       "  <tbody>\n",
       "    <tr>\n",
       "      <th>Huawei B528S-23A</th>\n",
       "      <td>19754</td>\n",
       "    </tr>\n",
       "    <tr>\n",
       "      <th>Apple iPhone 6S (A1688)</th>\n",
       "      <td>9401</td>\n",
       "    </tr>\n",
       "    <tr>\n",
       "      <th>Apple iPhone 6 (A1586)</th>\n",
       "      <td>9004</td>\n",
       "    </tr>\n",
       "    <tr>\n",
       "      <th>undefined</th>\n",
       "      <td>8960</td>\n",
       "    </tr>\n",
       "    <tr>\n",
       "      <th>Apple iPhone 7 (A1778)</th>\n",
       "      <td>6301</td>\n",
       "    </tr>\n",
       "    <tr>\n",
       "      <th>Apple iPhone Se (A1723)</th>\n",
       "      <td>5176</td>\n",
       "    </tr>\n",
       "    <tr>\n",
       "      <th>Apple iPhone 8 (A1905)</th>\n",
       "      <td>4985</td>\n",
       "    </tr>\n",
       "    <tr>\n",
       "      <th>Apple iPhone Xr (A2105)</th>\n",
       "      <td>4562</td>\n",
       "    </tr>\n",
       "    <tr>\n",
       "      <th>Samsung Galaxy S8 (Sm-G950F)</th>\n",
       "      <td>4504</td>\n",
       "    </tr>\n",
       "    <tr>\n",
       "      <th>Apple iPhone X (A1901)</th>\n",
       "      <td>3809</td>\n",
       "    </tr>\n",
       "  </tbody>\n",
       "</table>\n",
       "</div>"
      ],
      "text/plain": [
       "                              Handset Type\n",
       "Huawei B528S-23A                     19754\n",
       "Apple iPhone 6S (A1688)               9401\n",
       "Apple iPhone 6 (A1586)                9004\n",
       "undefined                             8960\n",
       "Apple iPhone 7 (A1778)                6301\n",
       "Apple iPhone Se (A1723)               5176\n",
       "Apple iPhone 8 (A1905)                4985\n",
       "Apple iPhone Xr (A2105)               4562\n",
       "Samsung Galaxy S8 (Sm-G950F)          4504\n",
       "Apple iPhone X (A1901)                3809"
      ]
     },
     "execution_count": 91,
     "metadata": {},
     "output_type": "execute_result"
    }
   ],
   "source": [
    "# top 10 handset_types used by customers from cleaned_df\n",
    "\n",
    "top_10_handsets = user_overview_script.get_top_handsets(10)\n",
    "pd.DataFrame(top_10_handsets)"
   ]
  },
  {
   "cell_type": "code",
   "execution_count": null,
   "metadata": {},
   "outputs": [
    {
     "data": {
      "text/plain": [
       "Index(['Huawei B528S-23A', 'Apple iPhone 6S (A1688)', 'Apple iPhone 6 (A1586)',\n",
       "       'undefined', 'Apple iPhone 7 (A1778)', 'Apple iPhone Se (A1723)',\n",
       "       'Apple iPhone 8 (A1905)', 'Apple iPhone Xr (A2105)',\n",
       "       'Samsung Galaxy S8 (Sm-G950F)', 'Apple iPhone X (A1901)'],\n",
       "      dtype='object')"
      ]
     },
     "execution_count": 92,
     "metadata": {},
     "output_type": "execute_result"
    }
   ],
   "source": [
    "top_10_handsets.index"
   ]
  },
  {
   "cell_type": "code",
   "execution_count": null,
   "metadata": {},
   "outputs": [
    {
     "data": {
      "image/png": "[encoded data removed]",
      "text/plain": [
       "<Figure size 720x360 with 1 Axes>"
      ]
     },
     "metadata": {
      "needs_background": "light"
     },
     "output_type": "display_data"
    }
   ],
   "source": [
    "# Bar graph to display the top 10 Handset Types\n",
    "\n",
    "plt.figure(figsize=(10,5))\n",
    "sns.barplot(x=top_10_handsets.index, y=top_10_handsets.values)\n",
    "plt.title('Top 10 Handset Types used by Customers', size=14, fontweight=\"bold\")\n",
    "plt.xlabel('Handset Types', size=13, fontweight=\"bold\")\n",
    "plt.xticks(rotation=90)\n",
    "plt.ylabel('Number of Users', size=13, fontweight=\"bold\")\n",
    "plt.show()"
   ]
  },
  {
   "cell_type": "code",
   "execution_count": null,
   "metadata": {},
   "outputs": [
    {
     "data": {
      "text/html": [
       "<div>\n",
       "<style scoped>\n",
       "    .dataframe tbody tr th:only-of-type {\n",
       "        vertical-align: middle;\n",
       "    }\n",
       "\n",
       "    .dataframe tbody tr th {\n",
       "        vertical-align: top;\n",
       "    }\n",
       "\n",
       "    .dataframe thead th {\n",
       "        text-align: right;\n",
       "    }\n",
       "</style>\n",
       "<table border=\"1\" class=\"dataframe\">\n",
       "  <thead>\n",
       "    <tr style=\"text-align: right;\">\n",
       "      <th></th>\n",
       "      <th>Handset Manufacturer</th>\n",
       "    </tr>\n",
       "  </thead>\n",
       "  <tbody>\n",
       "    <tr>\n",
       "      <th>Apple</th>\n",
       "      <td>59442</td>\n",
       "    </tr>\n",
       "    <tr>\n",
       "      <th>Samsung</th>\n",
       "      <td>40689</td>\n",
       "    </tr>\n",
       "    <tr>\n",
       "      <th>Huawei</th>\n",
       "      <td>34353</td>\n",
       "    </tr>\n",
       "  </tbody>\n",
       "</table>\n",
       "</div>"
      ],
      "text/plain": [
       "         Handset Manufacturer\n",
       "Apple                   59442\n",
       "Samsung                 40689\n",
       "Huawei                  34353"
      ]
     },
     "execution_count": 94,
     "metadata": {},
     "output_type": "execute_result"
    }
   ],
   "source": [
    "# top 10 manufactures used by customers from cleaned_df\n",
    "\n",
    "top_3_manufacturers = user_overview_script.get_top_manufacturers(3)\n",
    "pd.DataFrame(top_3_manufacturers)"
   ]
  },
  {
   "cell_type": "code",
   "execution_count": null,
   "metadata": {},
   "outputs": [
    {
     "data": {
      "image/png": "[encoded data removed]",
      "text/plain": [
       "<Figure size 720x360 with 1 Axes>"
      ]
     },
     "metadata": {
      "needs_background": "light"
     },
     "output_type": "display_data"
    }
   ],
   "source": [
    "# Bar graph to display the top 10 Handset Manufacturers\n",
    "\n",
    "plt.figure(figsize=(10,5))\n",
    "sns.barplot(x=top_3_manufacturers.index, y=top_3_manufacturers.values)\n",
    "plt.title('Top 3 Handset Manufacturers', size=14, fontweight=\"bold\")\n",
    "plt.xlabel('Handset Manufacturers', size=13, fontweight=\"bold\") \n",
    "plt.ylabel('Number of Users', size=13, fontweight=\"bold\")\n",
    "plt.show()"
   ]
  },
  {
   "cell_type": "code",
   "execution_count": null,
   "metadata": {},
   "outputs": [
    {
     "name": "stdout",
     "output_type": "stream",
     "text": [
      ">>>> Apple <<<<\n",
      "Handset Type\n",
      "Apple iPhone 6S (A1688)    6745\n",
      "Apple iPhone 6 (A1586)     6246\n",
      "Apple iPhone 7 (A1778)     4676\n",
      "Apple iPhone Se (A1723)    3745\n",
      "Apple iPhone 8 (A1905)     3536\n",
      "Name: MSISDN/Number, dtype: int64\n",
      "\n",
      ">>>> Samsung <<<<\n",
      "Handset Type\n",
      "Samsung Galaxy S8 (Sm-G950F)    3233\n",
      "Samsung Galaxy J5 (Sm-J530)     2742\n",
      "Samsung Galaxy A5 Sm-A520F      2702\n",
      "Samsung Galaxy J3 (Sm-J330)     2582\n",
      "Samsung Galaxy S7 (Sm-G930X)    2289\n",
      "Name: MSISDN/Number, dtype: int64\n",
      "\n",
      ">>>> Huawei <<<<\n",
      "Handset Type\n",
      "Huawei B528S-23A                  10617\n",
      "Huawei P20 Lite Huawei Nova 3E     1527\n",
      "Huawei E5180                       1183\n",
      "Huawei P20                         1106\n",
      "Huawei Y6 2018                      757\n",
      "Name: MSISDN/Number, dtype: int64\n",
      "\n"
     ]
    }
   ],
   "source": [
    "user_overview_script.get_handset_group()"
   ]
  },
  {
   "cell_type": "markdown",
   "metadata": {},
   "source": [
    "#### Short Interpretation\n",
    "\n",
    "Based on our results, we have confirmed that Apple is the most preferred manufacturer of the three major phone manufacturers (namely Apple, Samsung and Huawei) from the given dataset. Of its phones, the iPhone 6S (A1688) and iPhone 6 (A1586) are the most popular. Among the Samsung handsets, the Samsung Galaxy S8 (Sm-G950F) is the most popular handset. When we compare the products of the three mobile phone manufacturers individually, we find that the Huawei B528S-23A is the most popular mobile phone by the customers.\n"
   ]
  },
  {
   "cell_type": "markdown",
   "metadata": {},
   "source": [
    "### **Task 1.1**\n",
    "\n",
    "Overview of the users’ behavior on those applications by aggregate per user the following information in the column:\n",
    "1. Number of xDR sessions\n",
    "2. Session duration\n",
    "3. the total download (DL) and upload (UL) data\n",
    "4. the total data volume (in Bytes) during this session for each application\n"
   ]
  },
  {
   "cell_type": "code",
   "execution_count": null,
   "metadata": {},
   "outputs": [],
   "source": [
    "# Convert Total UL and Total DL Bytes to MB\n",
    "\n",
    "cleaned_df['Total UL (Bytes)'] = user_overview_script.convert_bytes_to_megabytes(cleaned_df['Total UL (Bytes)'])\n",
    "cleaned_df['Total DL (Bytes)'] = user_overview_script.convert_bytes_to_megabytes(cleaned_df['Total DL (Bytes)'])"
   ]
  },
  {
   "cell_type": "code",
   "execution_count": null,
   "metadata": {},
   "outputs": [],
   "source": [
    "# Convert Dur. (ms to Second\n",
    "\n",
    "dur_sec = user_overview_script.convert_ms_to_sec(cleaned_df['Dur. (ms)'])"
   ]
  },
  {
   "cell_type": "code",
   "execution_count": null,
   "metadata": {},
   "outputs": [],
   "source": [
    "# Rename the columns after conversion\n",
    "\n",
    "cleaned_df.rename(columns = {'Total UL (Bytes)':'Total UL (MB)', 'Total DL (Bytes)':'Total DL (MB)', 'Dur. (ms)': 'Dur. (sec)'}, inplace = True)"
   ]
  },
  {
   "cell_type": "code",
   "execution_count": null,
   "metadata": {},
   "outputs": [
    {
     "data": {
      "text/html": [
       "<div>\n",
       "<style scoped>\n",
       "    .dataframe tbody tr th:only-of-type {\n",
       "        vertical-align: middle;\n",
       "    }\n",
       "\n",
       "    .dataframe tbody tr th {\n",
       "        vertical-align: top;\n",
       "    }\n",
       "\n",
       "    .dataframe thead th {\n",
       "        text-align: right;\n",
       "    }\n",
       "</style>\n",
       "<table border=\"1\" class=\"dataframe\">\n",
       "  <thead>\n",
       "    <tr style=\"text-align: right;\">\n",
       "      <th></th>\n",
       "      <th>Bearer Id</th>\n",
       "      <th>Dur. (sec)</th>\n",
       "      <th>Total UL (MB)</th>\n",
       "      <th>Total DL (MB)</th>\n",
       "      <th>Total Data (MB)</th>\n",
       "    </tr>\n",
       "    <tr>\n",
       "      <th>MSISDN/Number</th>\n",
       "      <th></th>\n",
       "      <th></th>\n",
       "      <th></th>\n",
       "      <th></th>\n",
       "      <th></th>\n",
       "    </tr>\n",
       "  </thead>\n",
       "  <tbody>\n",
       "    <tr>\n",
       "      <th>33601001722.000</th>\n",
       "      <td>1</td>\n",
       "      <td>116720.000</td>\n",
       "      <td>36.053</td>\n",
       "      <td>842.637</td>\n",
       "      <td>878.691</td>\n",
       "    </tr>\n",
       "    <tr>\n",
       "      <th>33601001754.000</th>\n",
       "      <td>1</td>\n",
       "      <td>181230.000</td>\n",
       "      <td>36.104</td>\n",
       "      <td>120.755</td>\n",
       "      <td>156.860</td>\n",
       "    </tr>\n",
       "    <tr>\n",
       "      <th>33601002511.000</th>\n",
       "      <td>1</td>\n",
       "      <td>134969.000</td>\n",
       "      <td>39.307</td>\n",
       "      <td>556.660</td>\n",
       "      <td>595.966</td>\n",
       "    </tr>\n",
       "    <tr>\n",
       "      <th>33601007832.000</th>\n",
       "      <td>1</td>\n",
       "      <td>49878.000</td>\n",
       "      <td>20.328</td>\n",
       "      <td>401.993</td>\n",
       "      <td>422.321</td>\n",
       "    </tr>\n",
       "    <tr>\n",
       "      <th>33601008617.000</th>\n",
       "      <td>2</td>\n",
       "      <td>37104.000</td>\n",
       "      <td>94.281</td>\n",
       "      <td>1363.130</td>\n",
       "      <td>1457.411</td>\n",
       "    </tr>\n",
       "  </tbody>\n",
       "</table>\n",
       "</div>"
      ],
      "text/plain": [
       "                 Bearer Id  Dur. (sec)  Total UL (MB)  Total DL (MB)  \\\n",
       "MSISDN/Number                                                          \n",
       "33601001722.000          1  116720.000         36.053        842.637   \n",
       "33601001754.000          1  181230.000         36.104        120.755   \n",
       "33601002511.000          1  134969.000         39.307        556.660   \n",
       "33601007832.000          1   49878.000         20.328        401.993   \n",
       "33601008617.000          2   37104.000         94.281       1363.130   \n",
       "\n",
       "                 Total Data (MB)  \n",
       "MSISDN/Number                     \n",
       "33601001722.000          878.691  \n",
       "33601001754.000          156.860  \n",
       "33601002511.000          595.966  \n",
       "33601007832.000          422.321  \n",
       "33601008617.000         1457.411  "
      ]
     },
     "execution_count": 100,
     "metadata": {},
     "output_type": "execute_result"
    }
   ],
   "source": [
    "\n",
    "cleaned_df['Total Data (MB)'] = cleaned_df['Total DL (MB)'] + cleaned_df['Total UL (MB)']\n",
    "\n",
    "aggrigate = {\"Bearer Id\": 'count', 'Dur. (sec)':'sum', 'Total UL (MB)': 'sum', 'Total DL (MB)': 'sum', 'Total Data (MB)': 'sum'}\n",
    "aggrigation_result = cleaned_df.groupby('MSISDN/Number').agg(aggrigate)\n",
    "aggrigation_result.head()"
   ]
  },
  {
   "cell_type": "code",
   "execution_count": null,
   "metadata": {},
   "outputs": [],
   "source": []
  },
  {
   "cell_type": "code",
   "execution_count": null,
   "metadata": {},
   "outputs": [],
   "source": []
  }
 ],
 "metadata": {
  "interpreter": {
   "hash": "d67340bbc580f54f1bf5f90d01d7f8658c8d549ba7b846928043a9c3fc10b993"
  },
  "kernelspec": {
   "display_name": "Python 3.7.1",
   "language": "python",
   "name": "python3"
  },
  "language_info": {
   "codemirror_mode": {
    "name": "ipython",
    "version": 3
   },
   "file_extension": ".py",
   "mimetype": "text/x-python",
   "name": "python",
   "nbconvert_exporter": "python",
   "pygments_lexer": "ipython3",
   "version": "3.7.1"
  },
  "orig_nbformat": 4
 },
 "nbformat": 4,
 "nbformat_minor": 2
}

{
 "cells": [
  {
   "cell_type": "code",
   "execution_count": 1,
   "metadata": {},
   "outputs": [],
   "source": [
    "# Import modules for our task\n",
    "\n",
    "import numpy as np\n",
    "import pandas as pd\n",
    "import matplotlib.pyplot as plt \n",
    "from sklearn.decomposition import PCA\n",
    "from sklearn.preprocessing import StandardScaler\n",
    "import seaborn as sns"
   ]
  },
  {
   "cell_type": "code",
   "execution_count": 3,
   "metadata": {},
   "outputs": [],
   "source": [
    "# Import system libraries and our Scripts\n",
    "\n",
    "import os\n",
    "import sys\n",
    "import warnings\n",
    "warnings.filterwarnings('ignore')\n",
    "sys.path.append(os.path.abspath(os.path.join('../scripts')))\n",
    "from user_overview_script import UserOverviewScript\n",
    "from df_outlier import *\n",
    "from plots import *"
   ]
  },
  {
   "cell_type": "code",
   "execution_count": 4,
   "metadata": {},
   "outputs": [],
   "source": [
    "pd.set_option('display.max_columns', None)\n",
    "pd.set_option('display.max_colwidth', None)\n",
    "pd.set_option(\"expand_frame_repr\", False)\n",
    "pd.set_option('display.float_format', '{:.2f}'.format)"
   ]
  },
  {
   "cell_type": "code",
   "execution_count": 5,
   "metadata": {},
   "outputs": [
    {
     "name": "stdout",
     "output_type": "stream",
     "text": [
      "<class 'pandas.core.frame.DataFrame'>\n",
      "RangeIndex: 148506 entries, 0 to 148505\n",
      "Data columns (total 54 columns):\n",
      " #   Column                          Non-Null Count   Dtype  \n",
      "---  ------                          --------------   -----  \n",
      " 0   Unnamed: 0                      148506 non-null  int64  \n",
      " 1   Unnamed:_0                      148506 non-null  int64  \n",
      " 2   Bearer_Id                       148506 non-null  float64\n",
      " 3   Start                           148506 non-null  object \n",
      " 4   Start_ms                        148506 non-null  float64\n",
      " 5   End                             148506 non-null  object \n",
      " 6   End_ms                          148506 non-null  float64\n",
      " 7   Dur._(ms)                       148506 non-null  float64\n",
      " 8   IMSI                            148506 non-null  float64\n",
      " 9   MSISDN_Number                   148506 non-null  float64\n",
      " 10  IMEI                            148506 non-null  float64\n",
      " 11  Last_Location_Name              148506 non-null  object \n",
      " 12  Avg_RTT_DL_(ms)                 148506 non-null  float64\n",
      " 13  Avg_RTT_UL_(ms)                 148506 non-null  float64\n",
      " 14  Avg_Bearer_TP_DL_(kbps)         148506 non-null  float64\n",
      " 15  Avg_Bearer_TP_UL_(kbps)         148506 non-null  float64\n",
      " 16  DL_TP_<_50_Kbps_(%)             148506 non-null  float64\n",
      " 17  50_Kbps_<_DL_TP_<_250_Kbps_(%)  148506 non-null  float64\n",
      " 18  250_Kbps_<_DL_TP_<_1_Mbps_(%)   148506 non-null  float64\n",
      " 19  DL_TP_>_1_Mbps_(%)              148506 non-null  float64\n",
      " 20  UL_TP_<_10_Kbps_(%)             148506 non-null  float64\n",
      " 21  10_Kbps_<_UL_TP_<_50_Kbps_(%)   148506 non-null  float64\n",
      " 22  50_Kbps_<_UL_TP_<_300_Kbps_(%)  148506 non-null  float64\n",
      " 23  UL_TP_>_300_Kbps_(%)            148506 non-null  float64\n",
      " 24  Activity_Duration_DL_(ms)       148506 non-null  float64\n",
      " 25  Activity_Duration_UL_(ms)       148506 non-null  float64\n",
      " 26  Handset_Manufacturer            148506 non-null  object \n",
      " 27  Handset_Type                    148506 non-null  object \n",
      " 28  Nb_of_sec_with_Vol_DL_<_6250B   148506 non-null  float64\n",
      " 29  Nb_of_sec_with_Vol_UL_<_1250B   148506 non-null  float64\n",
      " 30  Social_Media_DL_(Bytes)         148506 non-null  float64\n",
      " 31  Social_Media_UL_(Bytes)         148506 non-null  float64\n",
      " 32  Google_DL_(Bytes)               148506 non-null  float64\n",
      " 33  Google_UL_(Bytes)               148506 non-null  float64\n",
      " 34  Email_DL_(Bytes)                148506 non-null  float64\n",
      " 35  Email_UL_(Bytes)                148506 non-null  float64\n",
      " 36  Youtube_DL_(Bytes)              148506 non-null  float64\n",
      " 37  Youtube_UL_(Bytes)              148506 non-null  float64\n",
      " 38  Netflix_DL_(Bytes)              148506 non-null  float64\n",
      " 39  Netflix_UL_(Bytes)              148506 non-null  float64\n",
      " 40  Gaming_DL_(Bytes)               148506 non-null  float64\n",
      " 41  Gaming_UL_(Bytes)               148506 non-null  float64\n",
      " 42  Other_DL_(Bytes)                148506 non-null  float64\n",
      " 43  Other_UL_(Bytes)                148506 non-null  float64\n",
      " 44  Total_UL_(Bytes)                148506 non-null  float64\n",
      " 45  Total_DL_(Bytes)                148506 non-null  float64\n",
      " 46  Social_Media_(Bytes)            148506 non-null  float64\n",
      " 47  Google_(Bytes)                  148506 non-null  float64\n",
      " 48  Youtube_(Bytes)                 148506 non-null  float64\n",
      " 49  Netflix_(Bytes)                 148506 non-null  float64\n",
      " 50  Gaming_(Bytes)                  148506 non-null  float64\n",
      " 51  Email_(Bytes)                   148506 non-null  float64\n",
      " 52  Other_(Bytes)                   148506 non-null  float64\n",
      " 53  Total_Data_(Bytes)              148506 non-null  float64\n",
      "dtypes: float64(47), int64(2), object(5)\n",
      "memory usage: 61.2+ MB\n"
     ]
    }
   ],
   "source": [
    "# Read cleaned Telecom dataset\n",
    "\n",
    "cleaned_df = pd.read_csv('../data/cleaned_Telecom_data.csv')\n",
    "cleaned_df.info()"
   ]
  }
 ],
 "metadata": {
  "interpreter": {
   "hash": "8fd1cbcd69c57b36d2ba9a8d49ab7b16a00fad135dd5589a01f9a7f783d833cf"
  },
  "kernelspec": {
   "display_name": "Python 3.8.3 ('base')",
   "language": "python",
   "name": "python3"
  },
  "language_info": {
   "codemirror_mode": {
    "name": "ipython",
    "version": 3
   },
   "file_extension": ".py",
   "mimetype": "text/x-python",
   "name": "python",
   "nbconvert_exporter": "python",
   "pygments_lexer": "ipython3",
   "version": "3.8.3"
  },
  "orig_nbformat": 4
 },
 "nbformat": 4,
 "nbformat_minor": 2
}

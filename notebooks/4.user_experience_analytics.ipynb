{
 "cells": [
  {
   "cell_type": "code",
   "execution_count": 1,
   "metadata": {},
   "outputs": [],
   "source": [
    "# Import modules for our task\n",
    "\n",
    "import numpy as np\n",
    "import pandas as pd\n",
    "import matplotlib.pyplot as plt \n",
    "from sklearn.decomposition import PCA\n",
    "from sklearn.preprocessing import StandardScaler\n",
    "import seaborn as sns"
   ]
  },
  {
   "cell_type": "code",
   "execution_count": 2,
   "metadata": {},
   "outputs": [],
   "source": [
    "# Import system libraries and our Scripts\n",
    "\n",
    "import os\n",
    "import sys\n",
    "import warnings\n",
    "warnings.filterwarnings('ignore')\n",
    "sys.path.append(os.path.abspath(os.path.join('../scripts')))\n",
    "from user_overview_script import UserOverviewScript\n",
    "from df_cleaning import DataFrameCleaning\n",
    "from df_info import DataFrameInfo\n",
    "from df_outlier import *\n",
    "from plots import *"
   ]
  },
  {
   "cell_type": "code",
   "execution_count": 3,
   "metadata": {},
   "outputs": [],
   "source": [
    "pd.set_option('display.max_columns', None)\n",
    "pd.set_option('display.max_colwidth', None)\n",
    "pd.set_option(\"expand_frame_repr\", False)\n",
    "pd.set_option('display.float_format', '{:.2f}'.format)"
   ]
  },
  {
   "cell_type": "code",
   "execution_count": 4,
   "metadata": {},
   "outputs": [
    {
     "name": "stdout",
     "output_type": "stream",
     "text": [
      "<class 'pandas.core.frame.DataFrame'>\n",
      "RangeIndex: 148506 entries, 0 to 148505\n",
      "Data columns (total 54 columns):\n",
      " #   Column                          Non-Null Count   Dtype  \n",
      "---  ------                          --------------   -----  \n",
      " 0   Unnamed: 0                      148506 non-null  int64  \n",
      " 1   Unnamed:_0                      148506 non-null  int64  \n",
      " 2   Bearer_Id                       148506 non-null  float64\n",
      " 3   Start                           148506 non-null  object \n",
      " 4   Start_ms                        148506 non-null  float64\n",
      " 5   End                             148506 non-null  object \n",
      " 6   End_ms                          148506 non-null  float64\n",
      " 7   Dur._(ms)                       148506 non-null  float64\n",
      " 8   IMSI                            148506 non-null  float64\n",
      " 9   MSISDN_Number                   148506 non-null  float64\n",
      " 10  IMEI                            148506 non-null  float64\n",
      " 11  Last_Location_Name              148506 non-null  object \n",
      " 12  Avg_RTT_DL_(ms)                 148506 non-null  float64\n",
      " 13  Avg_RTT_UL_(ms)                 148506 non-null  float64\n",
      " 14  Avg_Bearer_TP_DL_(kbps)         148506 non-null  float64\n",
      " 15  Avg_Bearer_TP_UL_(kbps)         148506 non-null  float64\n",
      " 16  DL_TP_<_50_Kbps_(%)             148506 non-null  float64\n",
      " 17  50_Kbps_<_DL_TP_<_250_Kbps_(%)  148506 non-null  float64\n",
      " 18  250_Kbps_<_DL_TP_<_1_Mbps_(%)   148506 non-null  float64\n",
      " 19  DL_TP_>_1_Mbps_(%)              148506 non-null  float64\n",
      " 20  UL_TP_<_10_Kbps_(%)             148506 non-null  float64\n",
      " 21  10_Kbps_<_UL_TP_<_50_Kbps_(%)   148506 non-null  float64\n",
      " 22  50_Kbps_<_UL_TP_<_300_Kbps_(%)  148506 non-null  float64\n",
      " 23  UL_TP_>_300_Kbps_(%)            148506 non-null  float64\n",
      " 24  Activity_Duration_DL_(ms)       148506 non-null  float64\n",
      " 25  Activity_Duration_UL_(ms)       148506 non-null  float64\n",
      " 26  Handset_Manufacturer            148506 non-null  object \n",
      " 27  Handset_Type                    148506 non-null  object \n",
      " 28  Nb_of_sec_with_Vol_DL_<_6250B   148506 non-null  float64\n",
      " 29  Nb_of_sec_with_Vol_UL_<_1250B   148506 non-null  float64\n",
      " 30  Social_Media_DL_(Bytes)         148506 non-null  float64\n",
      " 31  Social_Media_UL_(Bytes)         148506 non-null  float64\n",
      " 32  Google_DL_(Bytes)               148506 non-null  float64\n",
      " 33  Google_UL_(Bytes)               148506 non-null  float64\n",
      " 34  Email_DL_(Bytes)                148506 non-null  float64\n",
      " 35  Email_UL_(Bytes)                148506 non-null  float64\n",
      " 36  Youtube_DL_(Bytes)              148506 non-null  float64\n",
      " 37  Youtube_UL_(Bytes)              148506 non-null  float64\n",
      " 38  Netflix_DL_(Bytes)              148506 non-null  float64\n",
      " 39  Netflix_UL_(Bytes)              148506 non-null  float64\n",
      " 40  Gaming_DL_(Bytes)               148506 non-null  float64\n",
      " 41  Gaming_UL_(Bytes)               148506 non-null  float64\n",
      " 42  Other_DL_(Bytes)                148506 non-null  float64\n",
      " 43  Other_UL_(Bytes)                148506 non-null  float64\n",
      " 44  Total_UL_(Bytes)                148506 non-null  float64\n",
      " 45  Total_DL_(Bytes)                148506 non-null  float64\n",
      " 46  Social_Media_(Bytes)            148506 non-null  float64\n",
      " 47  Google_(Bytes)                  148506 non-null  float64\n",
      " 48  Youtube_(Bytes)                 148506 non-null  float64\n",
      " 49  Netflix_(Bytes)                 148506 non-null  float64\n",
      " 50  Gaming_(Bytes)                  148506 non-null  float64\n",
      " 51  Email_(Bytes)                   148506 non-null  float64\n",
      " 52  Other_(Bytes)                   148506 non-null  float64\n",
      " 53  Total_Data_(Bytes)              148506 non-null  float64\n",
      "dtypes: float64(47), int64(2), object(5)\n",
      "memory usage: 61.2+ MB\n"
     ]
    }
   ],
   "source": [
    "# Read cleaned Telecom dataset\n",
    "\n",
    "cleaned_df = pd.read_csv('../data/cleaned_Telecom_data.csv')\n",
    "cleaned_df.info()"
   ]
  },
  {
   "cell_type": "markdown",
   "metadata": {},
   "source": [
    "### **Task 3** - User Experience Analytics\n",
    "**Task 3.1.** - Aggregate, per customer, the following information(treat missing & outliers by replacing by the mean or the mode of the corresponding variable"
   ]
  },
  {
   "cell_type": "code",
   "execution_count": 33,
   "metadata": {},
   "outputs": [],
   "source": [
    "user_experience_df = cleaned_df[[\n",
    "    \"MSISDN_Number\",\n",
    "    \"Avg_RTT_DL_(ms)\",\n",
    "    \"Avg_RTT_UL_(ms)\",\n",
    "    \"Avg_Bearer_TP_DL_(kbps)\",\n",
    "    \"Avg_Bearer_TP_UL_(kbps)\",\n",
    "    \"Handset_Type\"]].copy()"
   ]
  },
  {
   "cell_type": "code",
   "execution_count": 34,
   "metadata": {},
   "outputs": [],
   "source": [
    "# Instantiate UserOverViewScript class in user_overview_script \n",
    "\n",
    "user_overview_script = UserOverviewScript(user_experience_df)"
   ]
  },
  {
   "cell_type": "code",
   "execution_count": 35,
   "metadata": {},
   "outputs": [],
   "source": [
    "# Convert Average RTT millisecond values to sec\n",
    "\n",
    "user_experience_df['Avg_RTT_DL_(ms)'] = user_overview_script.convert_ms_to_sec(\\\n",
    "    user_experience_df['Avg_RTT_DL_(ms)'])\n",
    "\n",
    "user_experience_df['Avg_RTT_UL_(ms)'] = user_overview_script.convert_ms_to_sec(\\\n",
    "    user_experience_df['Avg_RTT_UL_(ms)'])"
   ]
  },
  {
   "cell_type": "code",
   "execution_count": 36,
   "metadata": {},
   "outputs": [],
   "source": [
    "user_experience_df.rename(columns = {\\\n",
    "    'Avg_RTT_DL_(ms)':'Avg_RTT_DL_(sec)',\\\n",
    "    'Avg_RTT_UL_(ms)':'Avg_RTT_UL_(sec)'\\\n",
    "    }, inplace=True)"
   ]
  },
  {
   "cell_type": "code",
   "execution_count": 37,
   "metadata": {},
   "outputs": [],
   "source": [
    "# Bring back the deleted TCP Retransmission volume column during data cleaning from the original data \n",
    "\n",
    "df = pd.read_csv('../data/Week1_challenge_data_source(CSV).csv')\n",
    "user_experience_df['TCP_DL_Retrans_Vol_(Bytes)'] = df['TCP DL Retrans. Vol (Bytes)']\n",
    "user_experience_df['TCP_UL_Retrans_Vol_(Bytes)'] = df['TCP UL Retrans. Vol (Bytes)']"
   ]
  },
  {
   "cell_type": "markdown",
   "metadata": {},
   "source": [
    "##### Check for Null Values"
   ]
  },
  {
   "cell_type": "code",
   "execution_count": 38,
   "metadata": {},
   "outputs": [
    {
     "name": "stdout",
     "output_type": "stream",
     "text": [
      "<class 'pandas.core.frame.DataFrame'>\n",
      "RangeIndex: 148506 entries, 0 to 148505\n",
      "Data columns (total 8 columns):\n",
      " #   Column                      Non-Null Count   Dtype  \n",
      "---  ------                      --------------   -----  \n",
      " 0   MSISDN_Number               148506 non-null  float64\n",
      " 1   Avg_RTT_DL_(sec)            148506 non-null  float64\n",
      " 2   Avg_RTT_UL_(sec)            148506 non-null  float64\n",
      " 3   Avg_Bearer_TP_DL_(kbps)     148506 non-null  float64\n",
      " 4   Avg_Bearer_TP_UL_(kbps)     148506 non-null  float64\n",
      " 5   Handset_Type                148506 non-null  object \n",
      " 6   TCP_DL_Retrans_Vol_(Bytes)  61271 non-null   float64\n",
      " 7   TCP_UL_Retrans_Vol_(Bytes)  52879 non-null   float64\n",
      "dtypes: float64(7), object(1)\n",
      "memory usage: 9.1+ MB\n"
     ]
    }
   ],
   "source": [
    "user_experience_df.info()"
   ]
  },
  {
   "cell_type": "markdown",
   "metadata": {},
   "source": [
    "##### Treat Null Values"
   ]
  },
  {
   "cell_type": "code",
   "execution_count": 39,
   "metadata": {},
   "outputs": [
    {
     "name": "stdout",
     "output_type": "stream",
     "text": [
      "Automation in Action...!!!\n"
     ]
    }
   ],
   "source": [
    "# Handle null values of TCP Retransmission volume columns with mean and median based on Skewness value \n",
    "\n",
    "user_experience_df = DataFrameCleaning(user_experience_df)\n",
    "columns = ['TCP_DL_Retrans_Vol_(Bytes)', 'TCP_UL_Retrans_Vol_(Bytes)']\n",
    "user_experience_df.fill_numerical_column(columns)"
   ]
  },
  {
   "cell_type": "code",
   "execution_count": 40,
   "metadata": {},
   "outputs": [
    {
     "name": "stdout",
     "output_type": "stream",
     "text": [
      "MSISDN_Number                 0\n",
      "Avg_RTT_DL_(sec)              0\n",
      "Avg_RTT_UL_(sec)              0\n",
      "Avg_Bearer_TP_DL_(kbps)       0\n",
      "Avg_Bearer_TP_UL_(kbps)       0\n",
      "Handset_Type                  0\n",
      "TCP_DL_Retrans_Vol_(Bytes)    0\n",
      "TCP_UL_Retrans_Vol_(Bytes)    0\n",
      "dtype: int64\n"
     ]
    }
   ],
   "source": [
    "# Count null values if any\n",
    "\n",
    "user_experience_df = DataFrameInfo(user_experience_df.df)\n",
    "user_experience_df.get_null_counts()"
   ]
  },
  {
   "cell_type": "code",
   "execution_count": 41,
   "metadata": {},
   "outputs": [],
   "source": [
    "# Convert dataframe object to dataframe\n",
    "\n",
    "user_experience_df = user_experience_df.df"
   ]
  },
  {
   "cell_type": "code",
   "execution_count": 42,
   "metadata": {},
   "outputs": [
    {
     "name": "stdout",
     "output_type": "stream",
     "text": [
      "<class 'pandas.core.frame.DataFrame'>\n",
      "RangeIndex: 148506 entries, 0 to 148505\n",
      "Data columns (total 11 columns):\n",
      " #   Column                      Non-Null Count   Dtype  \n",
      "---  ------                      --------------   -----  \n",
      " 0   MSISDN_Number               148506 non-null  float64\n",
      " 1   Avg_RTT_DL_(sec)            148506 non-null  float64\n",
      " 2   Avg_RTT_UL_(sec)            148506 non-null  float64\n",
      " 3   Avg_Bearer_TP_DL_(kbps)     148506 non-null  float64\n",
      " 4   Avg_Bearer_TP_UL_(kbps)     148506 non-null  float64\n",
      " 5   Handset_Type                148506 non-null  object \n",
      " 6   TCP_DL_Retrans_Vol_(Bytes)  148506 non-null  float64\n",
      " 7   TCP_UL_Retrans_Vol_(Bytes)  148506 non-null  float64\n",
      " 8   Total_Avg_RTT               148506 non-null  float64\n",
      " 9   Total_Avg_Bearer_TP         148506 non-null  float64\n",
      " 10  Total_Avg_TCP               148506 non-null  float64\n",
      "dtypes: float64(10), object(1)\n",
      "memory usage: 12.5+ MB\n"
     ]
    }
   ],
   "source": [
    "user_experience_df['Total_Avg_RTT'] = user_experience_df['Avg_RTT_DL_(sec)'] + \\\n",
    "                                      user_experience_df['Avg_RTT_UL_(sec)']\n",
    "\n",
    "user_experience_df['Total_Avg_Bearer_TP'] = user_experience_df['Avg_Bearer_TP_DL_(kbps)'] + \\\n",
    "                                      user_experience_df['Avg_Bearer_TP_UL_(kbps)']\n",
    "\n",
    "user_experience_df['Total_Avg_TCP'] = user_experience_df['TCP_DL_Retrans_Vol_(Bytes)'] + \\\n",
    "                                      user_experience_df['TCP_DL_Retrans_Vol_(Bytes)']\n",
    "user_experience_df.info()"
   ]
  },
  {
   "cell_type": "code",
   "execution_count": 43,
   "metadata": {},
   "outputs": [
    {
     "data": {
      "text/html": [
       "<div>\n",
       "<style scoped>\n",
       "    .dataframe tbody tr th:only-of-type {\n",
       "        vertical-align: middle;\n",
       "    }\n",
       "\n",
       "    .dataframe tbody tr th {\n",
       "        vertical-align: top;\n",
       "    }\n",
       "\n",
       "    .dataframe thead th {\n",
       "        text-align: right;\n",
       "    }\n",
       "</style>\n",
       "<table border=\"1\" class=\"dataframe\">\n",
       "  <thead>\n",
       "    <tr style=\"text-align: right;\">\n",
       "      <th></th>\n",
       "      <th>Total_Avg_RTT</th>\n",
       "      <th>Total_Avg_Bearer_TP</th>\n",
       "      <th>Total_Avg_TCP</th>\n",
       "      <th>Handset_Type</th>\n",
       "    </tr>\n",
       "    <tr>\n",
       "      <th>MSISDN_Number</th>\n",
       "      <th></th>\n",
       "      <th></th>\n",
       "      <th></th>\n",
       "      <th></th>\n",
       "    </tr>\n",
       "  </thead>\n",
       "  <tbody>\n",
       "    <tr>\n",
       "      <th>33601001722.00</th>\n",
       "      <td>0.05</td>\n",
       "      <td>76.00</td>\n",
       "      <td>87038376.00</td>\n",
       "      <td>Huawei P20 Lite Huawei Nova 3E</td>\n",
       "    </tr>\n",
       "    <tr>\n",
       "      <th>33601001754.00</th>\n",
       "      <td>0.03</td>\n",
       "      <td>99.00</td>\n",
       "      <td>1146632.00</td>\n",
       "      <td>Apple iPhone 7 (A1778)</td>\n",
       "    </tr>\n",
       "    <tr>\n",
       "      <th>33601002511.00</th>\n",
       "      <td>0.05</td>\n",
       "      <td>97.00</td>\n",
       "      <td>1146632.00</td>\n",
       "      <td>undefined</td>\n",
       "    </tr>\n",
       "    <tr>\n",
       "      <th>33601007832.00</th>\n",
       "      <td>0.08</td>\n",
       "      <td>248.00</td>\n",
       "      <td>375028.00</td>\n",
       "      <td>Apple iPhone 5S (A1457)</td>\n",
       "    </tr>\n",
       "    <tr>\n",
       "      <th>33601008617.00</th>\n",
       "      <td>0.12</td>\n",
       "      <td>56844.00</td>\n",
       "      <td>1903292.00</td>\n",
       "      <td>Apple iPhone Se (A1723)</td>\n",
       "    </tr>\n",
       "  </tbody>\n",
       "</table>\n",
       "</div>"
      ],
      "text/plain": [
       "                Total_Avg_RTT  Total_Avg_Bearer_TP  Total_Avg_TCP                    Handset_Type\n",
       "MSISDN_Number                                                                                    \n",
       "33601001722.00           0.05                76.00    87038376.00  Huawei P20 Lite Huawei Nova 3E\n",
       "33601001754.00           0.03                99.00     1146632.00          Apple iPhone 7 (A1778)\n",
       "33601002511.00           0.05                97.00     1146632.00                       undefined\n",
       "33601007832.00           0.08               248.00      375028.00         Apple iPhone 5S (A1457)\n",
       "33601008617.00           0.12             56844.00     1903292.00         Apple iPhone Se (A1723)"
      ]
     },
     "execution_count": 43,
     "metadata": {},
     "output_type": "execute_result"
    }
   ],
   "source": [
    "user_experience_agg = user_experience_df.groupby('MSISDN_Number').agg({\n",
    "    'Total_Avg_RTT': 'sum',\n",
    "    'Total_Avg_Bearer_TP': 'sum',\n",
    "    'Total_Avg_TCP': 'sum',\n",
    "    'Handset_Type': [lambda x: x.mode()[0]]})\n",
    "\n",
    "user_experience = pd.DataFrame(columns=[\n",
    "    \"Total_Avg_RTT\",\n",
    "    \"Total_Avg_Bearer_TP\",\n",
    "    \"Total_Avg_TCP\",\n",
    "    \"Handset_Type\"])\n",
    "\n",
    "user_experience[\"Total_Avg_RTT\"] = user_experience_agg[\"Total_Avg_RTT\"]['sum']\n",
    "user_experience[\"Total_Avg_Bearer_TP\"] = user_experience_agg[\"Total_Avg_Bearer_TP\"]['sum']\n",
    "user_experience[\"Total_Avg_TCP\"] = user_experience_agg[\"Total_Avg_TCP\"]['sum']\n",
    "user_experience[\"Handset_Type\"] = user_experience_agg[\"Handset_Type\"]['<lambda>']\n",
    "user_experience.head()"
   ]
  },
  {
   "cell_type": "markdown",
   "metadata": {},
   "source": [
    "##### Treat Outliers"
   ]
  },
  {
   "cell_type": "code",
   "execution_count": 46,
   "metadata": {},
   "outputs": [
    {
     "data": {
      "text/plain": [
       "<AxesSubplot:>"
      ]
     },
     "execution_count": 46,
     "metadata": {},
     "output_type": "execute_result"
    },
    {
     "data": {
      "image/png": "[encoded data removed]",
      "text/plain": [
       "<Figure size 432x288 with 1 Axes>"
      ]
     },
     "metadata": {
      "needs_background": "light"
     },
     "output_type": "display_data"
    }
   ],
   "source": [
    "user_experience.boxplot()"
   ]
  },
  {
   "cell_type": "code",
   "execution_count": 47,
   "metadata": {},
   "outputs": [
    {
     "data": {
      "text/plain": [
       "<AxesSubplot:>"
      ]
     },
     "execution_count": 47,
     "metadata": {},
     "output_type": "execute_result"
    },
    {
     "data": {
      "image/png": "[encoded data removed]",
      "text/plain": [
       "<Figure size 432x288 with 1 Axes>"
      ]
     },
     "metadata": {
      "needs_background": "light"
     },
     "output_type": "display_data"
    }
   ],
   "source": [
    "# Remove Outliers\n",
    "\n",
    "replace_outliers_with_iqr(user_experience, ['Total_Avg_RTT', 'Total_Avg_Bearer_TP', 'Total_Avg_TCP'])\n",
    "user_experience.boxplot()"
   ]
  },
  {
   "cell_type": "markdown",
   "metadata": {},
   "source": [
    "#### **Task 3.2.**\n",
    "Compute & list 10 of the top, bottom and most frequent:\n",
    "* TCP values in the dataset. \n",
    "* RTT values in the dataset.\n",
    "* Throughput values in the dataset.\n"
   ]
  },
  {
   "cell_type": "markdown",
   "metadata": {},
   "source": [
    "#### Sort Dataset by TCP Values "
   ]
  },
  {
   "cell_type": "code",
   "execution_count": 44,
   "metadata": {},
   "outputs": [],
   "source": [
    "sorted_by_tcp = user_experience_df.sort_values(\n",
    "    'Total_Avg_TCP', ascending=False)\n",
    "top_10 = sorted_by_tcp.head(10)['Total_Avg_TCP']\n",
    "last_10 = sorted_by_tcp.tail(10)['Total_Avg_TCP']\n",
    "most_10 = user_experience_df['Total_Avg_TCP'].value_counts().head(10)"
   ]
  },
  {
   "cell_type": "code",
   "execution_count": 45,
   "metadata": {},
   "outputs": [
    {
     "data": {
      "image/png": "[encoded data removed]",
      "text/plain": [
       "<IPython.core.display.Image object>"
      ]
     },
     "execution_count": 45,
     "metadata": {},
     "output_type": "execute_result"
    }
   ],
   "source": [
    "mult_hist([top_10, last_10, most_10], 1,\n",
    "          3, \"TCP values in the dataset\", ['Top 10', 'Last 10', 'Most 10'])"
   ]
  },
  {
   "cell_type": "code",
   "execution_count": null,
   "metadata": {},
   "outputs": [],
   "source": []
  },
  {
   "cell_type": "code",
   "execution_count": null,
   "metadata": {},
   "outputs": [],
   "source": []
  }
 ],
 "metadata": {
  "interpreter": {
   "hash": "8fd1cbcd69c57b36d2ba9a8d49ab7b16a00fad135dd5589a01f9a7f783d833cf"
  },
  "kernelspec": {
   "display_name": "Python 3.8.3 ('base')",
   "language": "python",
   "name": "python3"
  },
  "language_info": {
   "codemirror_mode": {
    "name": "ipython",
    "version": 3
   },
   "file_extension": ".py",
   "mimetype": "text/x-python",
   "name": "python",
   "nbconvert_exporter": "python",
   "pygments_lexer": "ipython3",
   "version": "3.8.3"
  },
  "orig_nbformat": 4
 },
 "nbformat": 4,
 "nbformat_minor": 2
}

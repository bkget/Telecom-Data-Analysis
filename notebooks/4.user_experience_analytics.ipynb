{
 "cells": [
  {
   "cell_type": "code",
   "execution_count": 107,
   "metadata": {},
   "outputs": [],
   "source": [
    "# Import modules for our task\n",
    "\n",
    "import numpy as np\n",
    "import pandas as pd\n",
    "import matplotlib.pyplot as plt \n",
    "from sklearn.decomposition import PCA\n",
    "from sklearn.preprocessing import StandardScaler\n",
    "import seaborn as sns"
   ]
  },
  {
   "cell_type": "code",
   "execution_count": 108,
   "metadata": {},
   "outputs": [],
   "source": [
    "# Import system libraries and our Scripts\n",
    "\n",
    "import os\n",
    "import sys\n",
    "import warnings\n",
    "warnings.filterwarnings('ignore')\n",
    "sys.path.append(os.path.abspath(os.path.join('../scripts')))\n",
    "from user_overview_script import UserOverviewScript\n",
    "from df_cleaning import DataFrameCleaning\n",
    "from df_info import DataFrameInfo\n",
    "from df_outlier import *\n",
    "from plots import *"
   ]
  },
  {
   "cell_type": "code",
   "execution_count": 109,
   "metadata": {},
   "outputs": [],
   "source": [
    "pd.set_option('display.max_columns', None)\n",
    "pd.set_option('display.max_colwidth', None)\n",
    "pd.set_option(\"expand_frame_repr\", False)\n",
    "pd.set_option('display.float_format', '{:.2f}'.format)"
   ]
  },
  {
   "cell_type": "code",
   "execution_count": 110,
   "metadata": {},
   "outputs": [
    {
     "name": "stdout",
     "output_type": "stream",
     "text": [
      "<class 'pandas.core.frame.DataFrame'>\n",
      "RangeIndex: 148506 entries, 0 to 148505\n",
      "Data columns (total 54 columns):\n",
      " #   Column                          Non-Null Count   Dtype  \n",
      "---  ------                          --------------   -----  \n",
      " 0   Unnamed: 0                      148506 non-null  int64  \n",
      " 1   Unnamed:_0                      148506 non-null  int64  \n",
      " 2   Bearer_Id                       148506 non-null  float64\n",
      " 3   Start                           148506 non-null  object \n",
      " 4   Start_ms                        148506 non-null  float64\n",
      " 5   End                             148506 non-null  object \n",
      " 6   End_ms                          148506 non-null  float64\n",
      " 7   Dur._(ms)                       148506 non-null  float64\n",
      " 8   IMSI                            148506 non-null  float64\n",
      " 9   MSISDN_Number                   148506 non-null  float64\n",
      " 10  IMEI                            148506 non-null  float64\n",
      " 11  Last_Location_Name              148506 non-null  object \n",
      " 12  Avg_RTT_DL_(ms)                 148506 non-null  float64\n",
      " 13  Avg_RTT_UL_(ms)                 148506 non-null  float64\n",
      " 14  Avg_Bearer_TP_DL_(kbps)         148506 non-null  float64\n",
      " 15  Avg_Bearer_TP_UL_(kbps)         148506 non-null  float64\n",
      " 16  DL_TP_<_50_Kbps_(%)             148506 non-null  float64\n",
      " 17  50_Kbps_<_DL_TP_<_250_Kbps_(%)  148506 non-null  float64\n",
      " 18  250_Kbps_<_DL_TP_<_1_Mbps_(%)   148506 non-null  float64\n",
      " 19  DL_TP_>_1_Mbps_(%)              148506 non-null  float64\n",
      " 20  UL_TP_<_10_Kbps_(%)             148506 non-null  float64\n",
      " 21  10_Kbps_<_UL_TP_<_50_Kbps_(%)   148506 non-null  float64\n",
      " 22  50_Kbps_<_UL_TP_<_300_Kbps_(%)  148506 non-null  float64\n",
      " 23  UL_TP_>_300_Kbps_(%)            148506 non-null  float64\n",
      " 24  Activity_Duration_DL_(ms)       148506 non-null  float64\n",
      " 25  Activity_Duration_UL_(ms)       148506 non-null  float64\n",
      " 26  Handset_Manufacturer            148506 non-null  object \n",
      " 27  Handset_Type                    148506 non-null  object \n",
      " 28  Nb_of_sec_with_Vol_DL_<_6250B   148506 non-null  float64\n",
      " 29  Nb_of_sec_with_Vol_UL_<_1250B   148506 non-null  float64\n",
      " 30  Social_Media_DL_(Bytes)         148506 non-null  float64\n",
      " 31  Social_Media_UL_(Bytes)         148506 non-null  float64\n",
      " 32  Google_DL_(Bytes)               148506 non-null  float64\n",
      " 33  Google_UL_(Bytes)               148506 non-null  float64\n",
      " 34  Email_DL_(Bytes)                148506 non-null  float64\n",
      " 35  Email_UL_(Bytes)                148506 non-null  float64\n",
      " 36  Youtube_DL_(Bytes)              148506 non-null  float64\n",
      " 37  Youtube_UL_(Bytes)              148506 non-null  float64\n",
      " 38  Netflix_DL_(Bytes)              148506 non-null  float64\n",
      " 39  Netflix_UL_(Bytes)              148506 non-null  float64\n",
      " 40  Gaming_DL_(Bytes)               148506 non-null  float64\n",
      " 41  Gaming_UL_(Bytes)               148506 non-null  float64\n",
      " 42  Other_DL_(Bytes)                148506 non-null  float64\n",
      " 43  Other_UL_(Bytes)                148506 non-null  float64\n",
      " 44  Total_UL_(Bytes)                148506 non-null  float64\n",
      " 45  Total_DL_(Bytes)                148506 non-null  float64\n",
      " 46  Social_Media_(Bytes)            148506 non-null  float64\n",
      " 47  Google_(Bytes)                  148506 non-null  float64\n",
      " 48  Youtube_(Bytes)                 148506 non-null  float64\n",
      " 49  Netflix_(Bytes)                 148506 non-null  float64\n",
      " 50  Gaming_(Bytes)                  148506 non-null  float64\n",
      " 51  Email_(Bytes)                   148506 non-null  float64\n",
      " 52  Other_(Bytes)                   148506 non-null  float64\n",
      " 53  Total_Data_(Bytes)              148506 non-null  float64\n",
      "dtypes: float64(47), int64(2), object(5)\n",
      "memory usage: 61.2+ MB\n"
     ]
    }
   ],
   "source": [
    "# Read cleaned Telecom dataset\n",
    "\n",
    "cleaned_df = pd.read_csv('../data/cleaned_Telecom_data.csv')\n",
    "cleaned_df.info()"
   ]
  },
  {
   "cell_type": "markdown",
   "metadata": {},
   "source": [
    "### **Task 3** - User Experience Analytics\n",
    "**Task 3.1.** - Aggregate, per customer, the following information(treat missing & outliers by replacing by the mean or the mode of the corresponding variable"
   ]
  },
  {
   "cell_type": "code",
   "execution_count": 111,
   "metadata": {},
   "outputs": [],
   "source": [
    "user_experience_df = cleaned_df[[\n",
    "    \"MSISDN_Number\",\n",
    "    \"Avg_RTT_DL_(ms)\",\n",
    "    \"Avg_RTT_UL_(ms)\",\n",
    "    \"Avg_Bearer_TP_DL_(kbps)\",\n",
    "    \"Avg_Bearer_TP_UL_(kbps)\",\n",
    "    \"Handset_Type\"]].copy()"
   ]
  },
  {
   "cell_type": "code",
   "execution_count": 112,
   "metadata": {},
   "outputs": [],
   "source": [
    "# Instantiate UserOverViewScript class in user_overview_script \n",
    "\n",
    "user_overview_script = UserOverviewScript(user_experience_df)"
   ]
  },
  {
   "cell_type": "code",
   "execution_count": 113,
   "metadata": {},
   "outputs": [],
   "source": [
    "# Convert Average RTT millisecond values to sec\n",
    "\n",
    "user_experience_df['Avg_RTT_DL_(ms)'] = user_overview_script.convert_ms_to_sec(\\\n",
    "    user_experience_df['Avg_RTT_DL_(ms)'])\n",
    "\n",
    "user_experience_df['Avg_RTT_UL_(ms)'] = user_overview_script.convert_ms_to_sec(\\\n",
    "    user_experience_df['Avg_RTT_UL_(ms)'])"
   ]
  },
  {
   "cell_type": "code",
   "execution_count": 114,
   "metadata": {},
   "outputs": [],
   "source": [
    "user_experience_df.rename(columns = {\\\n",
    "    'Avg_RTT_DL_(ms)':'Avg_RTT_DL_(sec)',\\\n",
    "    'Avg_RTT_UL_(ms)':'Avg_RTT_UL_(sec)'\\\n",
    "    }, inplace=True)"
   ]
  },
  {
   "cell_type": "code",
   "execution_count": 115,
   "metadata": {},
   "outputs": [],
   "source": [
    "# Bring back the deleted TCP Retransmission volume column during data cleaning from the original data \n",
    "\n",
    "df = pd.read_csv('../data/Week1_challenge_data_source(CSV).csv')\n",
    "user_experience_df['TCP_DL_Retrans_Vol_(Bytes)'] = df['TCP DL Retrans. Vol (Bytes)']\n",
    "user_experience_df['TCP_UL_Retrans_Vol_(Bytes)'] = df['TCP UL Retrans. Vol (Bytes)']"
   ]
  },
  {
   "cell_type": "code",
   "execution_count": 116,
   "metadata": {},
   "outputs": [
    {
     "name": "stdout",
     "output_type": "stream",
     "text": [
      "<class 'pandas.core.frame.DataFrame'>\n",
      "RangeIndex: 148506 entries, 0 to 148505\n",
      "Data columns (total 8 columns):\n",
      " #   Column                      Non-Null Count   Dtype  \n",
      "---  ------                      --------------   -----  \n",
      " 0   MSISDN_Number               148506 non-null  float64\n",
      " 1   Avg_RTT_DL_(sec)            148506 non-null  float64\n",
      " 2   Avg_RTT_UL_(sec)            148506 non-null  float64\n",
      " 3   Avg_Bearer_TP_DL_(kbps)     148506 non-null  float64\n",
      " 4   Avg_Bearer_TP_UL_(kbps)     148506 non-null  float64\n",
      " 5   Handset_Type                148506 non-null  object \n",
      " 6   TCP_DL_Retrans_Vol_(Bytes)  61271 non-null   float64\n",
      " 7   TCP_UL_Retrans_Vol_(Bytes)  52879 non-null   float64\n",
      "dtypes: float64(7), object(1)\n",
      "memory usage: 9.1+ MB\n"
     ]
    }
   ],
   "source": [
    "user_experience_df.info()"
   ]
  },
  {
   "cell_type": "code",
   "execution_count": 117,
   "metadata": {},
   "outputs": [
    {
     "name": "stdout",
     "output_type": "stream",
     "text": [
      "Automation in Action...!!!\n"
     ]
    }
   ],
   "source": [
    "# Handle null values of TCP Retransmission volume columns with mean and median based on Skewness value \n",
    "\n",
    "user_experience_df = DataFrameCleaning(user_experience_df)\n",
    "columns = ['TCP_DL_Retrans_Vol_(Bytes)', 'TCP_UL_Retrans_Vol_(Bytes)']\n",
    "user_experience_df.fill_numerical_column(columns)"
   ]
  },
  {
   "cell_type": "code",
   "execution_count": 118,
   "metadata": {},
   "outputs": [
    {
     "name": "stdout",
     "output_type": "stream",
     "text": [
      "MSISDN_Number                 0\n",
      "Avg_RTT_DL_(sec)              0\n",
      "Avg_RTT_UL_(sec)              0\n",
      "Avg_Bearer_TP_DL_(kbps)       0\n",
      "Avg_Bearer_TP_UL_(kbps)       0\n",
      "Handset_Type                  0\n",
      "TCP_DL_Retrans_Vol_(Bytes)    0\n",
      "TCP_UL_Retrans_Vol_(Bytes)    0\n",
      "dtype: int64\n"
     ]
    }
   ],
   "source": [
    "# Count null values if any\n",
    "\n",
    "user_experience_df = DataFrameInfo(user_experience_df.df)\n",
    "user_experience_df.get_null_counts()"
   ]
  }
 ],
 "metadata": {
  "interpreter": {
   "hash": "8fd1cbcd69c57b36d2ba9a8d49ab7b16a00fad135dd5589a01f9a7f783d833cf"
  },
  "kernelspec": {
   "display_name": "Python 3.8.3 ('base')",
   "language": "python",
   "name": "python3"
  },
  "language_info": {
   "codemirror_mode": {
    "name": "ipython",
    "version": 3
   },
   "file_extension": ".py",
   "mimetype": "text/x-python",
   "name": "python",
   "nbconvert_exporter": "python",
   "pygments_lexer": "ipython3",
   "version": "3.8.3"
  },
  "orig_nbformat": 4
 },
 "nbformat": 4,
 "nbformat_minor": 2
}

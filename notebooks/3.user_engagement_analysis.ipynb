{
 "cells": [
  {
   "cell_type": "markdown",
   "metadata": {},
   "source": [
    "###  **User Engagement Analysis**\n",
    "In this task we will track the user’s engagement using the following engagement metrics: \n",
    "* Sessions frequency \n",
    "* Duration of the session \n",
    "* Sessions total traffic (download and upload (MB))\n"
   ]
  },
  {
   "cell_type": "code",
   "execution_count": 4,
   "metadata": {},
   "outputs": [],
   "source": [
    "# Import libraries\n",
    "\n",
    "import numpy as np\n",
    "import pandas as pd\n",
    "import seaborn as sns\n",
    "import matplotlib.pyplot as plt\n",
    "from sklearn import preprocessing\n",
    "from sklearn.cluster import KMeans\n",
    "from sklearn.preprocessing import StandardScaler"
   ]
  },
  {
   "cell_type": "code",
   "execution_count": 5,
   "metadata": {},
   "outputs": [],
   "source": [
    "import os\n",
    "import sys\n",
    "import warnings\n",
    "warnings.filterwarnings('ignore')\n",
    "sys.path.append(os.path.abspath(os.path.join('../scripts')))"
   ]
  },
  {
   "cell_type": "code",
   "execution_count": 6,
   "metadata": {},
   "outputs": [],
   "source": [
    "pd.set_option('display.max_columns', None)\n",
    "pd.set_option('display.max_colwidth', None)\n",
    "pd.set_option(\"expand_frame_repr\", False)\n",
    "pd.set_option('display.float_format', '{:.2f}'.format)"
   ]
  },
  {
   "cell_type": "code",
   "execution_count": 12,
   "metadata": {},
   "outputs": [],
   "source": [
    "# Read cleaned Telecom dataset\n",
    "\n",
    "cleaned_df = pd.read_csv('../data/cleaned_Telecom_data.csv')"
   ]
  },
  {
   "cell_type": "code",
   "execution_count": 13,
   "metadata": {},
   "outputs": [],
   "source": [
    "# Compute the Total Data usage for each applications\n",
    "\n",
    "cleaned_df[\"Social Media (Bytes)\"] = cleaned_df[\"Social Media DL (Bytes)\"] + cleaned_df['Social Media UL (Bytes)']\n",
    "cleaned_df[\"Google (Bytes)\"]       = cleaned_df[\"Google DL (Bytes)\"] + cleaned_df[\"Google UL (Bytes)\"]\n",
    "cleaned_df['Youtube (Bytes)']      = cleaned_df[\"Youtube DL (Bytes)\"] + cleaned_df[\"Youtube UL (Bytes)\"]\n",
    "cleaned_df['Netflix (Bytes)']      = cleaned_df[\"Netflix DL (Bytes)\"] + cleaned_df[\"Netflix UL (Bytes)\"]\n",
    "cleaned_df[\"Gaming (Bytes)\"]       = cleaned_df[\"Gaming DL (Bytes)\"] + cleaned_df[\"Gaming UL (Bytes)\"]\n",
    "cleaned_df['Email (Bytes)']        = cleaned_df[\"Email DL (Bytes)\"] + cleaned_df[\"Email UL (Bytes)\"]\n",
    "cleaned_df['Other (Bytes)']        = cleaned_df[\"Other DL (Bytes)\"]+ cleaned_df[\"Other UL (Bytes)\"]\n",
    "cleaned_df['Total Data (Bytes)']   = cleaned_df['Total UL (Bytes)'] + cleaned_df['Total DL (Bytes)']"
   ]
  },
  {
   "cell_type": "code",
   "execution_count": 14,
   "metadata": {},
   "outputs": [
    {
     "name": "stdout",
     "output_type": "stream",
     "text": [
      "<class 'pandas.core.frame.DataFrame'>\n",
      "RangeIndex: 149001 entries, 0 to 149000\n",
      "Data columns (total 53 columns):\n",
      " #   Column                          Non-Null Count   Dtype  \n",
      "---  ------                          --------------   -----  \n",
      " 0   Unnamed:_0                      149001 non-null  int64  \n",
      " 1   Bearer_Id                       149001 non-null  float64\n",
      " 2   Start                           149001 non-null  object \n",
      " 3   Start_ms                        149001 non-null  float64\n",
      " 4   End                             149001 non-null  object \n",
      " 5   End_ms                          149001 non-null  float64\n",
      " 6   Dur._(ms)                       149001 non-null  float64\n",
      " 7   IMSI                            149001 non-null  float64\n",
      " 8   MSISDN/Number                   149001 non-null  float64\n",
      " 9   IMEI                            149001 non-null  float64\n",
      " 10  Last_Location_Name              149001 non-null  object \n",
      " 11  Avg_RTT_DL_(ms)                 149001 non-null  float64\n",
      " 12  Avg_RTT_UL_(ms)                 149001 non-null  float64\n",
      " 13  Avg_Bearer_TP_DL_(kbps)         149001 non-null  float64\n",
      " 14  Avg_Bearer_TP_UL_(kbps)         149001 non-null  float64\n",
      " 15  DL_TP_<_50_Kbps_(%)             149001 non-null  float64\n",
      " 16  50_Kbps_<_DL_TP_<_250_Kbps_(%)  149001 non-null  float64\n",
      " 17  250_Kbps_<_DL_TP_<_1_Mbps_(%)   149001 non-null  float64\n",
      " 18  DL_TP_>_1_Mbps_(%)              149001 non-null  float64\n",
      " 19  UL_TP_<_10_Kbps_(%)             149001 non-null  float64\n",
      " 20  10_Kbps_<_UL_TP_<_50_Kbps_(%)   149001 non-null  float64\n",
      " 21  50_Kbps_<_UL_TP_<_300_Kbps_(%)  149001 non-null  float64\n",
      " 22  UL_TP_>_300_Kbps_(%)            149001 non-null  float64\n",
      " 23  Activity_Duration_DL_(ms)       149001 non-null  float64\n",
      " 24  Activity_Duration_UL_(ms)       149001 non-null  float64\n",
      " 25  Handset_Manufacturer            149001 non-null  object \n",
      " 26  Handset_Type                    149001 non-null  object \n",
      " 27  Nb_of_sec_with_Vol_DL_<_6250B   149001 non-null  float64\n",
      " 28  Nb_of_sec_with_Vol_UL_<_1250B   149001 non-null  float64\n",
      " 29  Social_Media_DL_(Bytes)         149001 non-null  float64\n",
      " 30  Social_Media_UL_(Bytes)         149001 non-null  float64\n",
      " 31  Google_DL_(Bytes)               149001 non-null  float64\n",
      " 32  Google_UL_(Bytes)               149001 non-null  float64\n",
      " 33  Email_DL_(Bytes)                149001 non-null  float64\n",
      " 34  Email_UL_(Bytes)                149001 non-null  float64\n",
      " 35  Youtube_DL_(Bytes)              149001 non-null  float64\n",
      " 36  Youtube_UL_(Bytes)              149001 non-null  float64\n",
      " 37  Netflix_DL_(Bytes)              149001 non-null  float64\n",
      " 38  Netflix_UL_(Bytes)              149001 non-null  float64\n",
      " 39  Gaming_DL_(Bytes)               149001 non-null  float64\n",
      " 40  Gaming_UL_(Bytes)               149001 non-null  float64\n",
      " 41  Other_DL_(Bytes)                149001 non-null  float64\n",
      " 42  Other_UL_(Bytes)                149001 non-null  float64\n",
      " 43  Total_UL_(Bytes)                149001 non-null  float64\n",
      " 44  Total_DL_(Bytes)                149001 non-null  float64\n",
      " 45  Social_Media_(Bytes)            149001 non-null  float64\n",
      " 46  Google_(Bytes)                  149001 non-null  float64\n",
      " 47  Youtube_(Bytes)                 149001 non-null  float64\n",
      " 48  Netflix_(Bytes)                 149001 non-null  float64\n",
      " 49  Gaming_(Bytes)                  149001 non-null  float64\n",
      " 50  Email_(Bytes)                   149001 non-null  float64\n",
      " 51  Other_(Bytes)                   149001 non-null  float64\n",
      " 52  Total_Data_(Bytes)              149001 non-null  float64\n",
      "dtypes: float64(47), int64(1), object(5)\n",
      "memory usage: 60.2+ MB\n"
     ]
    }
   ],
   "source": [
    "#  Replace the space with underscore\n",
    "\n",
    "cleaned_df.columns = cleaned_df.columns.str.replace(\" \", \"_\")\n",
    "cleaned_df.info()"
   ]
  },
  {
   "cell_type": "markdown",
   "metadata": {},
   "source": [
    "### Task 2\n",
    "Aggregate the above metrics per customer id (MSISDN) and report the top 10 customers per engagement metric"
   ]
  },
  {
   "cell_type": "code",
   "execution_count": 25,
   "metadata": {},
   "outputs": [],
   "source": [
    "user_engagement_df = cleaned_df[['MSISDN/Number', 'Bearer_Id', 'Dur._(ms)', 'Total_Data_(Bytes)']].copy().rename(columns={\n",
    "    'Bearer_Id': 'Session_Id', 'MSISDN/Number':'Customer_Id', 'Dur._(ms)': 'Duration', 'Total_Data_(Bytes)': 'Total_Data_Volume'})"
   ]
  },
  {
   "cell_type": "code",
   "execution_count": 27,
   "metadata": {},
   "outputs": [
    {
     "data": {
      "text/html": [
       "<div>\n",
       "<style scoped>\n",
       "    .dataframe tbody tr th:only-of-type {\n",
       "        vertical-align: middle;\n",
       "    }\n",
       "\n",
       "    .dataframe tbody tr th {\n",
       "        vertical-align: top;\n",
       "    }\n",
       "\n",
       "    .dataframe thead th {\n",
       "        text-align: right;\n",
       "    }\n",
       "</style>\n",
       "<table border=\"1\" class=\"dataframe\">\n",
       "  <thead>\n",
       "    <tr style=\"text-align: right;\">\n",
       "      <th></th>\n",
       "      <th>Session_Id</th>\n",
       "      <th>Duration</th>\n",
       "      <th>Total_Data_Volume</th>\n",
       "    </tr>\n",
       "    <tr>\n",
       "      <th>Customer_Id</th>\n",
       "      <th></th>\n",
       "      <th></th>\n",
       "      <th></th>\n",
       "    </tr>\n",
       "  </thead>\n",
       "  <tbody>\n",
       "    <tr>\n",
       "      <th>33601001722.00</th>\n",
       "      <td>1</td>\n",
       "      <td>116720.00</td>\n",
       "      <td>878690574.00</td>\n",
       "    </tr>\n",
       "    <tr>\n",
       "      <th>33601001754.00</th>\n",
       "      <td>1</td>\n",
       "      <td>181230.00</td>\n",
       "      <td>156859643.00</td>\n",
       "    </tr>\n",
       "    <tr>\n",
       "      <th>33601002511.00</th>\n",
       "      <td>1</td>\n",
       "      <td>134969.00</td>\n",
       "      <td>595966483.00</td>\n",
       "    </tr>\n",
       "    <tr>\n",
       "      <th>33601007832.00</th>\n",
       "      <td>1</td>\n",
       "      <td>49878.00</td>\n",
       "      <td>422320698.00</td>\n",
       "    </tr>\n",
       "    <tr>\n",
       "      <th>33601008617.00</th>\n",
       "      <td>2</td>\n",
       "      <td>37104.00</td>\n",
       "      <td>1457410944.00</td>\n",
       "    </tr>\n",
       "    <tr>\n",
       "      <th>33601010682.00</th>\n",
       "      <td>2</td>\n",
       "      <td>253983.00</td>\n",
       "      <td>615217221.00</td>\n",
       "    </tr>\n",
       "    <tr>\n",
       "      <th>33601011634.00</th>\n",
       "      <td>2</td>\n",
       "      <td>128360.00</td>\n",
       "      <td>654723066.00</td>\n",
       "    </tr>\n",
       "    <tr>\n",
       "      <th>33601011959.00</th>\n",
       "      <td>1</td>\n",
       "      <td>86399.00</td>\n",
       "      <td>332660357.00</td>\n",
       "    </tr>\n",
       "    <tr>\n",
       "      <th>33601014694.00</th>\n",
       "      <td>2</td>\n",
       "      <td>495702.00</td>\n",
       "      <td>990132189.00</td>\n",
       "    </tr>\n",
       "    <tr>\n",
       "      <th>33601020306.00</th>\n",
       "      <td>1</td>\n",
       "      <td>124854.00</td>\n",
       "      <td>732463761.00</td>\n",
       "    </tr>\n",
       "  </tbody>\n",
       "</table>\n",
       "</div>"
      ],
      "text/plain": [
       "                Session_Id  Duration  Total_Data_Volume\n",
       "Customer_Id                                            \n",
       "33601001722.00           1 116720.00       878690574.00\n",
       "33601001754.00           1 181230.00       156859643.00\n",
       "33601002511.00           1 134969.00       595966483.00\n",
       "33601007832.00           1  49878.00       422320698.00\n",
       "33601008617.00           2  37104.00      1457410944.00\n",
       "33601010682.00           2 253983.00       615217221.00\n",
       "33601011634.00           2 128360.00       654723066.00\n",
       "33601011959.00           1  86399.00       332660357.00\n",
       "33601014694.00           2 495702.00       990132189.00\n",
       "33601020306.00           1 124854.00       732463761.00"
      ]
     },
     "execution_count": 27,
     "metadata": {},
     "output_type": "execute_result"
    }
   ],
   "source": [
    "\n",
    "user_engagement = user_engagement_df.groupby('Customer_Id').agg({'Session_Id': 'count', 'Duration': 'sum', 'Total_Data_Volume': 'sum'})\n",
    "user_engagement.head(10)"
   ]
  },
  {
   "cell_type": "code",
   "execution_count": null,
   "metadata": {},
   "outputs": [],
   "source": []
  }
 ],
 "metadata": {
  "interpreter": {
   "hash": "8fd1cbcd69c57b36d2ba9a8d49ab7b16a00fad135dd5589a01f9a7f783d833cf"
  },
  "kernelspec": {
   "display_name": "Python 3.8.3 ('base')",
   "language": "python",
   "name": "python3"
  },
  "language_info": {
   "codemirror_mode": {
    "name": "ipython",
    "version": 3
   },
   "file_extension": ".py",
   "mimetype": "text/x-python",
   "name": "python",
   "nbconvert_exporter": "python",
   "pygments_lexer": "ipython3",
   "version": "3.8.3"
  },
  "orig_nbformat": 4
 },
 "nbformat": 4,
 "nbformat_minor": 2
}
